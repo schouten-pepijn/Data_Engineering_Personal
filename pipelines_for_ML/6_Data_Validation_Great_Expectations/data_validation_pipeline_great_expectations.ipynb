{
 "cells": [
  {
   "cell_type": "code",
   "execution_count": 28,
   "metadata": {},
   "outputs": [],
   "source": [
    "import great_expectations as ge \n",
    "import pandas as pd\n",
    "import random\n",
    "import os\n",
    "from pprint import pprint"
   ]
  },
  {
   "cell_type": "markdown",
   "metadata": {},
   "source": [
    "Create Data"
   ]
  },
  {
   "cell_type": "code",
   "execution_count": 6,
   "metadata": {},
   "outputs": [
    {
     "name": "stdout",
     "output_type": "stream",
     "text": [
      "    Gender  Blood_sugar_levels\n",
      "0   Female                  79\n",
      "1     Male                 117\n",
      "2   Female                  82\n",
      "3   Female                 126\n",
      "4     Male                 123\n",
      "5   Female                 122\n",
      "6    Other                 104\n",
      "7    Other                  76\n",
      "8    Other                  87\n",
      "9     Male                 118\n",
      "10   Other                  91\n",
      "11    Male                 111\n",
      "12  Female                 104\n",
      "13    Male                 115\n",
      "14   Other                  90\n",
      "15   Other                 126\n",
      "16    Male                 115\n",
      "17  Female                 128\n",
      "18    Male                  77\n",
      "19   Other                 127\n"
     ]
    }
   ],
   "source": [
    "random.seed(87)\n",
    "gender = [\"Male\", \"Female\", \"Other\"]\n",
    "blood_sugar_levels = [random.randint(70, 130) for _ in range(20)]\n",
    "gender = [random.choice(gender) for _ in range(20)]\n",
    "\n",
    "data = {\"Gender\": gender, \"Blood_sugar_levels\": blood_sugar_levels}\n",
    "df = pd.DataFrame(data)\n",
    "print(df)"
   ]
  },
  {
   "cell_type": "code",
   "execution_count": 16,
   "metadata": {},
   "outputs": [
    {
     "name": "stdout",
     "output_type": "stream",
     "text": [
      "{\n",
      "  \"meta\": {},\n",
      "  \"success\": false,\n",
      "  \"result\": {\n",
      "    \"element_count\": 20,\n",
      "    \"missing_count\": 0,\n",
      "    \"missing_percent\": 0.0,\n",
      "    \"unexpected_count\": 7,\n",
      "    \"unexpected_percent\": 35.0,\n",
      "    \"unexpected_percent_total\": 35.0,\n",
      "    \"unexpected_percent_nonmissing\": 35.0,\n",
      "    \"partial_unexpected_list\": [\n",
      "      \"Other\",\n",
      "      \"Other\",\n",
      "      \"Other\",\n",
      "      \"Other\",\n",
      "      \"Other\",\n",
      "      \"Other\",\n",
      "      \"Other\"\n",
      "    ]\n",
      "  },\n",
      "  \"exception_info\": {\n",
      "    \"raised_exception\": false,\n",
      "    \"exception_traceback\": null,\n",
      "    \"exception_message\": null\n",
      "  }\n",
      "}\n",
      "Gender\n",
      "Male      7\n",
      "Other     7\n",
      "Female    6\n",
      "Name: count, dtype: int64\n",
      "{\n",
      "  \"meta\": {},\n",
      "  \"success\": true,\n",
      "  \"result\": {\n",
      "    \"element_count\": 20,\n",
      "    \"missing_count\": 0,\n",
      "    \"missing_percent\": 0.0,\n",
      "    \"unexpected_count\": 0,\n",
      "    \"unexpected_percent\": 0.0,\n",
      "    \"unexpected_percent_total\": 0.0,\n",
      "    \"unexpected_percent_nonmissing\": 0.0,\n",
      "    \"partial_unexpected_list\": []\n",
      "  },\n",
      "  \"exception_info\": {\n",
      "    \"raised_exception\": false,\n",
      "    \"exception_traceback\": null,\n",
      "    \"exception_message\": null\n",
      "  }\n",
      "}\n"
     ]
    }
   ],
   "source": [
    "# import df to great expectations\n",
    "df_ge = ge.from_pandas(df)\n",
    "\n",
    "# create expectations (failure case)\n",
    "gender_exp = df_ge.expect_column_values_to_be_in_set(\n",
    "    \"Gender\",\n",
    "    [\"Male\", \"Female\"]\n",
    ")\n",
    "pprint(gender_exp)\n",
    "print(df_ge.Gender.value_counts())\n",
    "\n",
    "# create expectations (success case)\n",
    "gender_exp = df_ge.expect_column_values_to_be_in_set(\n",
    "    \"Gender\",\n",
    "    [\"Male\", \"Female\", \"Other\"]\n",
    ")\n",
    "pprint(gender_exp)"
   ]
  },
  {
   "cell_type": "markdown",
   "metadata": {},
   "source": [
    "Data Validation Workflow in GE\n",
    "(1. install GE\n",
    " 2. Create data context\n",
    " 3. Connect to data\n",
    " 4. Create a validator\n",
    " 5. Create expectations\n",
    " 6. Run a checkpoint\n",
    " 7. View validation results)"
   ]
  },
  {
   "cell_type": "code",
   "execution_count": 23,
   "metadata": {},
   "outputs": [
    {
     "name": "stdout",
     "output_type": "stream",
     "text": [
      "{\n",
      "  \"anonymous_usage_statistics\": {\n",
      "    \"explicit_id\": true,\n",
      "    \"enabled\": true,\n",
      "    \"explicit_url\": false,\n",
      "    \"data_context_id\": \"09f188f3-5ed0-43d3-8ae2-2c5b5beebae6\",\n",
      "    \"usage_statistics_url\": \"https://stats.greatexpectations.io/great_expectations/v1/usage_statistics\"\n",
      "  },\n",
      "  \"checkpoint_store_name\": \"checkpoint_store\",\n",
      "  \"config_version\": 3,\n",
      "  \"data_docs_sites\": {\n",
      "    \"local_site\": {\n",
      "      \"class_name\": \"SiteBuilder\",\n",
      "      \"show_how_to_buttons\": true,\n",
      "      \"store_backend\": {\n",
      "        \"class_name\": \"TupleFilesystemStoreBackend\",\n",
      "        \"base_directory\": \"/var/folders/pv/ttwy3_md59d5w2n1jcpcn2m80000gp/T/tmp7s63x03i\"\n",
      "      },\n",
      "      \"site_index_builder\": {\n",
      "        \"class_name\": \"DefaultSiteIndexBuilder\"\n",
      "      }\n",
      "    }\n",
      "  },\n",
      "  \"datasources\": {},\n",
      "  \"evaluation_parameter_store_name\": \"evaluation_parameter_store\",\n",
      "  \"expectations_store_name\": \"expectations_store\",\n",
      "  \"fluent_datasources\": {},\n",
      "  \"include_rendered_content\": {\n",
      "    \"expectation_suite\": false,\n",
      "    \"expectation_validation_result\": false,\n",
      "    \"globally\": false\n",
      "  },\n",
      "  \"profiler_store_name\": \"profiler_store\",\n",
      "  \"stores\": {\n",
      "    \"expectations_store\": {\n",
      "      \"class_name\": \"ExpectationsStore\",\n",
      "      \"store_backend\": {\n",
      "        \"class_name\": \"InMemoryStoreBackend\"\n",
      "      }\n",
      "    },\n",
      "    \"validations_store\": {\n",
      "      \"class_name\": \"ValidationsStore\",\n",
      "      \"store_backend\": {\n",
      "        \"class_name\": \"InMemoryStoreBackend\"\n",
      "      }\n",
      "    },\n",
      "    \"evaluation_parameter_store\": {\n",
      "      \"class_name\": \"EvaluationParameterStore\"\n",
      "    },\n",
      "    \"checkpoint_store\": {\n",
      "      \"class_name\": \"CheckpointStore\",\n",
      "      \"store_backend\": {\n",
      "        \"class_name\": \"InMemoryStoreBackend\"\n",
      "      }\n",
      "    },\n",
      "    \"profiler_store\": {\n",
      "      \"class_name\": \"ProfilerStore\",\n",
      "      \"store_backend\": {\n",
      "        \"class_name\": \"InMemoryStoreBackend\"\n",
      "      }\n",
      "    }\n",
      "  },\n",
      "  \"validations_store_name\": \"validations_store\"\n",
      "}\n"
     ]
    },
    {
     "data": {
      "application/vnd.jupyter.widget-view+json": {
       "model_id": "32c73965f49042a98f7ee484ea86d84d",
       "version_major": 2,
       "version_minor": 0
      },
      "text/plain": [
       "Calculating Metrics:   0%|          | 0/1 [00:00<?, ?it/s]"
      ]
     },
     "metadata": {},
     "output_type": "display_data"
    },
    {
     "name": "stdout",
     "output_type": "stream",
     "text": [
      "               drug_company  \\\n",
      "0     AMI Cosmetic Co.,Ltd.   \n",
      "1          Apotheca Company   \n",
      "2  Blenheim Pharmacal, Inc.   \n",
      "3  Aurobindo Pharma Limited   \n",
      "4          Albert Max, Inc.   \n",
      "\n",
      "                                           drug_name    drug_code  drug_price  \\\n",
      "0                                           Glycerin  356082843-0       21.77   \n",
      "1  Berberis vulgaris, Hydrangea arborescens, Petr...  641668608-2      333.30   \n",
      "2                                         Topiramate  225672839-0      630.50   \n",
      "3                                         Carvedilol  295230280-4      129.39   \n",
      "4                MENTHOL, METHYL SALYCILATE, BORNEOL  688657119-2      761.70   \n",
      "\n",
      "  drug_in_stock drug_release_date  \n",
      "0          True         1/11/2022  \n",
      "1         False         4/27/2022  \n",
      "2         False         4/16/2022  \n",
      "3         False          5/3/2022  \n",
      "4          True         1/11/2022  \n"
     ]
    }
   ],
   "source": [
    "# create context\n",
    "context = ge.get_context()\n",
    "pprint(context)\n",
    "\n",
    "# create validator (direct input)\n",
    "data_path = \"/Users/pepijnschouten/Desktop/Python_Scripts/\" \\\n",
    "    \"Python_Scripts_Books/Data_Engineering/Data_Engineering_for\" \\\n",
    "        \"_ML_Pipelines/Own_Files/6_Data_Validation_Great_Expectations\" \\\n",
    "            \"/data/MockarooHealth.csv\"\n",
    "validator = context.sources.pandas_default.read_csv(data_path)\n",
    "\n",
    "# create data source\n",
    "data_source_name = \"test2\"\n",
    "ge.datasource = context.sources.add_pandas(data_source_name)\n",
    "\n",
    "# create data asset\n",
    "asset_name = \"asset1\"\n",
    "asset = ge.datasource.add_csv_asset(\n",
    "    name=asset_name,\n",
    "    filepath_or_buffer=data_path)\n",
    "\n",
    "# build batch request\n",
    "batch_request = asset.build_batch_request()\n",
    "\n",
    "# create expectation suite\n",
    "context.add_or_update_expectation_suite(\n",
    "    \"my_expectation_suite\")\n",
    "\n",
    "# create a validator\n",
    "validator = context.get_validator(\n",
    "    batch_request=batch_request,\n",
    "    expectation_suite_name=\"my_expectation_suite\")\n",
    "print(validator.head())\n"
   ]
  },
  {
   "cell_type": "code",
   "execution_count": 26,
   "metadata": {},
   "outputs": [
    {
     "data": {
      "application/vnd.jupyter.widget-view+json": {
       "model_id": "77d16f08eca84ec3ae70d2b4bad349c7",
       "version_major": 2,
       "version_minor": 0
      },
      "text/plain": [
       "Calculating Metrics:   0%|          | 0/6 [00:00<?, ?it/s]"
      ]
     },
     "metadata": {},
     "output_type": "display_data"
    },
    {
     "name": "stdout",
     "output_type": "stream",
     "text": [
      "{\n",
      "  \"meta\": {},\n",
      "  \"success\": false,\n",
      "  \"result\": {\n",
      "    \"element_count\": 1000,\n",
      "    \"unexpected_count\": 64,\n",
      "    \"unexpected_percent\": 6.4,\n",
      "    \"partial_unexpected_list\": [\n",
      "      null,\n",
      "      null,\n",
      "      null,\n",
      "      null,\n",
      "      null,\n",
      "      null,\n",
      "      null,\n",
      "      null,\n",
      "      null,\n",
      "      null,\n",
      "      null,\n",
      "      null,\n",
      "      null,\n",
      "      null,\n",
      "      null,\n",
      "      null,\n",
      "      null,\n",
      "      null,\n",
      "      null,\n",
      "      null\n",
      "    ]\n",
      "  },\n",
      "  \"exception_info\": {\n",
      "    \"raised_exception\": false,\n",
      "    \"exception_traceback\": null,\n",
      "    \"exception_message\": null\n",
      "  }\n",
      "}\n"
     ]
    },
    {
     "data": {
      "application/vnd.jupyter.widget-view+json": {
       "model_id": "8894fe5789a8442cb46dcb884994a3c6",
       "version_major": 2,
       "version_minor": 0
      },
      "text/plain": [
       "Calculating Metrics:   0%|          | 0/6 [00:00<?, ?it/s]"
      ]
     },
     "metadata": {},
     "output_type": "display_data"
    },
    {
     "name": "stdout",
     "output_type": "stream",
     "text": [
      "{\n",
      "  \"meta\": {},\n",
      "  \"success\": false,\n",
      "  \"result\": {\n",
      "    \"element_count\": 1000,\n",
      "    \"unexpected_count\": 41,\n",
      "    \"unexpected_percent\": 4.1000000000000005,\n",
      "    \"partial_unexpected_list\": [\n",
      "      null,\n",
      "      null,\n",
      "      null,\n",
      "      null,\n",
      "      null,\n",
      "      null,\n",
      "      null,\n",
      "      null,\n",
      "      null,\n",
      "      null,\n",
      "      null,\n",
      "      null,\n",
      "      null,\n",
      "      null,\n",
      "      null,\n",
      "      null,\n",
      "      null,\n",
      "      null,\n",
      "      null,\n",
      "      null\n",
      "    ]\n",
      "  },\n",
      "  \"exception_info\": {\n",
      "    \"raised_exception\": false,\n",
      "    \"exception_traceback\": null,\n",
      "    \"exception_message\": null\n",
      "  }\n",
      "}\n"
     ]
    }
   ],
   "source": [
    "# run validator and run an expectation\n",
    "expectation_not_null = validator.expect_column_values_to_not_be_null(\n",
    "    column=\"drug_name\")\n",
    "pprint(expectation_not_null)\n",
    "\n",
    "expectation_not_null = validator.expect_column_values_to_not_be_null(\n",
    "    column=\"drug_code\")\n",
    "pprint(expectation_not_null)"
   ]
  },
  {
   "cell_type": "code",
   "execution_count": 29,
   "metadata": {},
   "outputs": [],
   "source": [
    "# save expectation suit saved to json\n",
    "save_dir = \"/Users/pepijnschouten/Desktop/Python_Scripts/Python_Scripts_Books\" \\\n",
    "    \"/Data_Engineering/Data_Engineering_for_ML_Pipelines/Own_Files\" \\\n",
    "        \"/6_Data_Validation_Great_Expectations/saves\"\n",
    "validator.save_expectation_suite(os.path.join(save_dir, \"my_expectation_suite.json\"),\n",
    "                                 discard_failed_expectations=False)"
   ]
  },
  {
   "cell_type": "markdown",
   "metadata": {},
   "source": [
    "Checkpoints (link betweeen expectation suits and data)"
   ]
  },
  {
   "cell_type": "code",
   "execution_count": 30,
   "metadata": {},
   "outputs": [
    {
     "data": {
      "application/vnd.jupyter.widget-view+json": {
       "model_id": "0226564e75e04aed9ca4d0e1e31c8968",
       "version_major": 2,
       "version_minor": 0
      },
      "text/plain": [
       "Calculating Metrics: 0it [00:00, ?it/s]"
      ]
     },
     "metadata": {},
     "output_type": "display_data"
    },
    {
     "name": "stdout",
     "output_type": "stream",
     "text": [
      "{\n",
      "  \"run_id\": {\n",
      "    \"run_name\": null,\n",
      "    \"run_time\": \"2024-10-29T16:37:26.598715+01:00\"\n",
      "  },\n",
      "  \"run_results\": {\n",
      "    \"ValidationResultIdentifier::my_expectation_suite/__none__/20241029T153726.598715Z/test2-asset1\": {\n",
      "      \"validation_result\": {\n",
      "        \"meta\": {\n",
      "          \"great_expectations_version\": \"0.18.19\",\n",
      "          \"expectation_suite_name\": \"my_expectation_suite\",\n",
      "          \"run_id\": {\n",
      "            \"run_name\": null,\n",
      "            \"run_time\": \"2024-10-29T16:37:26.598715+01:00\"\n",
      "          },\n",
      "          \"batch_spec\": {\n",
      "            \"reader_method\": \"read_csv\",\n",
      "            \"reader_options\": {\n",
      "              \"filepath_or_buffer\": \"/Users/pepijnschouten/Desktop/Python_Scripts/Python_Scripts_Books/Data_Engineering/Data_Engineering_for_ML_Pipelines/Own_Files/6_Data_Validation_Great_Expectations/data/MockarooHealth.csv\"\n",
      "            }\n",
      "          },\n",
      "          \"batch_markers\": {\n",
      "            \"ge_load_time\": \"20241029T153726.611213Z\",\n",
      "            \"pandas_data_fingerprint\": \"6b2229ed81123eb6e75b51a3b41d3fbd\"\n",
      "          },\n",
      "          \"active_batch_definition\": {\n",
      "            \"datasource_name\": \"test2\",\n",
      "            \"data_connector_name\": \"fluent\",\n",
      "            \"data_asset_name\": \"asset1\",\n",
      "            \"batch_identifiers\": {}\n",
      "          },\n",
      "          \"validation_time\": \"20241029T153726.674251Z\",\n",
      "          \"checkpoint_name\": \"my_checkpoint\",\n",
      "          \"validation_id\": null,\n",
      "          \"checkpoint_id\": null\n",
      "        },\n",
      "        \"statistics\": {\n",
      "          \"evaluated_expectations\": 0,\n",
      "          \"successful_expectations\": 0,\n",
      "          \"unsuccessful_expectations\": 0,\n",
      "          \"success_percent\": null\n",
      "        },\n",
      "        \"success\": true,\n",
      "        \"results\": [],\n",
      "        \"evaluation_parameters\": {}\n",
      "      },\n",
      "      \"actions_results\": {\n",
      "        \"store_validation_result\": {\n",
      "          \"class\": \"StoreValidationResultAction\"\n",
      "        },\n",
      "        \"store_evaluation_params\": {\n",
      "          \"class\": \"StoreEvaluationParametersAction\"\n",
      "        },\n",
      "        \"update_data_docs\": {\n",
      "          \"local_site\": \"file:///var/folders/pv/ttwy3_md59d5w2n1jcpcn2m80000gp/T/tmp7s63x03i/validations/my_expectation_suite/__none__/20241029T153726.598715Z/test2-asset1.html\",\n",
      "          \"class\": \"UpdateDataDocsAction\"\n",
      "        }\n",
      "      }\n",
      "    }\n",
      "  },\n",
      "  \"checkpoint_config\": {\n",
      "    \"module_name\": \"great_expectations.checkpoint\",\n",
      "    \"default_validation_id\": null,\n",
      "    \"class_name\": \"Checkpoint\",\n",
      "    \"run_name_template\": null,\n",
      "    \"expectation_suite_name\": null,\n",
      "    \"slack_webhook\": null,\n",
      "    \"name\": \"my_checkpoint\",\n",
      "    \"batch_request\": {},\n",
      "    \"evaluation_parameters\": {},\n",
      "    \"template_name\": null,\n",
      "    \"action_list\": [\n",
      "      {\n",
      "        \"name\": \"store_validation_result\",\n",
      "        \"action\": {\n",
      "          \"class_name\": \"StoreValidationResultAction\"\n",
      "        }\n",
      "      },\n",
      "      {\n",
      "        \"name\": \"store_evaluation_params\",\n",
      "        \"action\": {\n",
      "          \"class_name\": \"StoreEvaluationParametersAction\"\n",
      "        }\n",
      "      },\n",
      "      {\n",
      "        \"name\": \"update_data_docs\",\n",
      "        \"action\": {\n",
      "          \"class_name\": \"UpdateDataDocsAction\"\n",
      "        }\n",
      "      }\n",
      "    ],\n",
      "    \"runtime_configuration\": {},\n",
      "    \"ge_cloud_id\": null,\n",
      "    \"expectation_suite_ge_cloud_id\": null,\n",
      "    \"profilers\": [],\n",
      "    \"validations\": [\n",
      "      {\n",
      "        \"expectation_suite_name\": \"my_expectation_suite\",\n",
      "        \"name\": null,\n",
      "        \"batch_request\": {\n",
      "          \"datasource_name\": \"test2\",\n",
      "          \"data_asset_name\": \"asset1\",\n",
      "          \"options\": {},\n",
      "          \"batch_slice\": null\n",
      "        },\n",
      "        \"expectation_suite_ge_cloud_id\": null,\n",
      "        \"id\": null\n",
      "      }\n",
      "    ],\n",
      "    \"config_version\": 1.0,\n",
      "    \"notify_on\": null,\n",
      "    \"notify_with\": null,\n",
      "    \"site_names\": null\n",
      "  },\n",
      "  \"success\": true\n",
      "}\n"
     ]
    }
   ],
   "source": [
    "# create checkpoint\n",
    "checkpoint = context.add_or_update_checkpoint(\n",
    "    name=\"my_checkpoint\",\n",
    "    validations=\n",
    "    [\n",
    "        {\n",
    "            \"batch_request\": batch_request,\n",
    "            \"expectation_suite_name\": \"my_expectation_suite\"\n",
    "        },\n",
    "    ],\n",
    ")\n",
    "checkpoint_result = checkpoint.run()\n",
    "print(checkpoint_result)\n",
    "\n",
    "# add to checkpoint\n",
    "\"\"\"\n",
    "context.add_or_update_checkpoint(\n",
    "    name=\"my_test_checkpoint\",\n",
    "    validations=more_validations\n",
    ")\n",
    "\"\"\"\n"
   ]
  },
  {
   "cell_type": "markdown",
   "metadata": {},
   "source": [
    "Data Documentation"
   ]
  },
  {
   "cell_type": "code",
   "execution_count": 31,
   "metadata": {},
   "outputs": [
    {
     "data": {
      "text/plain": [
       "{'local_site': 'file:///var/folders/pv/ttwy3_md59d5w2n1jcpcn2m80000gp/T/tmp7s63x03i/index.html'}"
      ]
     },
     "execution_count": 31,
     "metadata": {},
     "output_type": "execute_result"
    }
   ],
   "source": [
    "# creates website\n",
    "context.build_data_docs()"
   ]
  },
  {
   "cell_type": "code",
   "execution_count": null,
   "metadata": {},
   "outputs": [],
   "source": []
  }
 ],
 "metadata": {
  "kernelspec": {
   "display_name": "data_eng",
   "language": "python",
   "name": "python3"
  },
  "language_info": {
   "codemirror_mode": {
    "name": "ipython",
    "version": 3
   },
   "file_extension": ".py",
   "mimetype": "text/x-python",
   "name": "python",
   "nbconvert_exporter": "python",
   "pygments_lexer": "ipython3",
   "version": "3.12.2"
  }
 },
 "nbformat": 4,
 "nbformat_minor": 2
}
