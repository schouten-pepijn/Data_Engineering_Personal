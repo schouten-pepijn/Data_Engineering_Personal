{
 "cells": [
  {
   "cell_type": "code",
   "execution_count": 53,
   "metadata": {},
   "outputs": [],
   "source": [
    "from sqlalchemy import create_engine, inspect, insert, MetaData, select\n",
    "from sqlalchemy.sql import text\n",
    "\n",
    "# database connection details\n",
    "username = \"postgres\"\n",
    "password = \"1243\"\n",
    "host = \"localhost\"\n",
    "post = 5432\n",
    "database = \"postgres\"\n",
    "\n",
    "# connect to the database\n",
    "engine = create_engine(f\"postgresql://{username}:{password}@{host}:{post}/{database}\")"
   ]
  },
  {
   "cell_type": "code",
   "execution_count": 58,
   "metadata": {},
   "outputs": [
    {
     "name": "stdout",
     "output_type": "stream",
     "text": [
      "Table names:  ['sqlalchemytest']\n",
      "Column names:  ['id', 'name', 'email']\n"
     ]
    }
   ],
   "source": [
    "# create an inspector object\n",
    "inspector = inspect(engine)\n",
    "\n",
    "# get the list of table names\n",
    "table_names = inspector.get_table_names()\n",
    "tables = [table for table in table_names]\n",
    "print(\"Table names: \", tables)\n",
    "    \n",
    "# get the list of columns\n",
    "columns = inspector.get_columns(table_names[0])\n",
    "column_names = [column['name'] for column in columns]\n",
    "print(\"Column names: \", column_names)"
   ]
  },
  {
   "cell_type": "code",
   "execution_count": 59,
   "metadata": {},
   "outputs": [],
   "source": [
    "# metadata and table\n",
    "meta = MetaData()\n",
    "meta.reflect(bind=engine)\n",
    "table = meta.tables['sqlalchemytest']"
   ]
  },
  {
   "cell_type": "code",
   "execution_count": 61,
   "metadata": {},
   "outputs": [],
   "source": [
    "# print existing entries\n",
    "with engine.connect() as conn:\n",
    "    for row in conn.execute(select(table)):\n",
    "        print(row)"
   ]
  },
  {
   "cell_type": "code",
   "execution_count": 62,
   "metadata": {},
   "outputs": [],
   "source": [
    "# dummy user data\n",
    "user_data = [\n",
    "    {'id': 1,'name': 'John', 'email': 'Mm8B5@example.com'},\n",
    "    {'id': 2,'name': 'Jane', 'email': 'Mm8B5@example.com'},\n",
    "    {'id': 3, 'name': 'Bob', 'email': 'Mm8B5@example.com'}\n",
    "]\n",
    "\n",
    "\n",
    "# execute the insert query\n",
    "with engine.connect() as conn:\n",
    "    # sql query\n",
    "    query = insert(table).values(user_data)\n",
    "    conn.execute(query)\n",
    "    conn.commit()\n"
   ]
  },
  {
   "cell_type": "code",
   "execution_count": 63,
   "metadata": {},
   "outputs": [
    {
     "name": "stdout",
     "output_type": "stream",
     "text": [
      "(1, 'John', 'Mm8B5@example.com')\n",
      "(2, 'Jane', 'Mm8B5@example.com')\n",
      "(3, 'Bob', 'Mm8B5@example.com')\n"
     ]
    }
   ],
   "source": [
    "# print existing entries\n",
    "with engine.connect() as conn:\n",
    "    for row in conn.execute(select(table)):\n",
    "        print(row)"
   ]
  },
  {
   "cell_type": "code",
   "execution_count": 64,
   "metadata": {},
   "outputs": [],
   "source": [
    "# delete all entries\n",
    "with engine.connect() as conn:\n",
    "    conn.execute(table.delete())\n",
    "    conn.commit()"
   ]
  },
  {
   "cell_type": "code",
   "execution_count": 65,
   "metadata": {},
   "outputs": [],
   "source": [
    "# print existing entries\n",
    "with engine.connect() as conn:\n",
    "    for row in conn.execute(select(table)):\n",
    "        print(row)"
   ]
  },
  {
   "cell_type": "code",
   "execution_count": null,
   "metadata": {},
   "outputs": [],
   "source": []
  }
 ],
 "metadata": {
  "kernelspec": {
   "display_name": "data_eng",
   "language": "python",
   "name": "python3"
  },
  "language_info": {
   "codemirror_mode": {
    "name": "ipython",
    "version": 3
   },
   "file_extension": ".py",
   "mimetype": "text/x-python",
   "name": "python",
   "nbconvert_exporter": "python",
   "pygments_lexer": "ipython3",
   "version": "3.12.2"
  }
 },
 "nbformat": 4,
 "nbformat_minor": 2
}
