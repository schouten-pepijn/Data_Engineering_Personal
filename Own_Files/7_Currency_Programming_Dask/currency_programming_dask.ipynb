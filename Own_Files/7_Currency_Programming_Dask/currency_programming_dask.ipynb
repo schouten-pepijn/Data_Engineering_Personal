{
 "cells": [
  {
   "cell_type": "code",
   "execution_count": 58,
   "metadata": {},
   "outputs": [],
   "source": [
    "from multiprocessing import cpu_count, Pool\n",
    "import time\n",
    "import dask\n",
    "import dask.array as da\n",
    "from dask import array\n",
    "from dask import bag\n",
    "import csv\n",
    "import dask.dataframe as dd\n",
    "import pandas as pd\n",
    "import numpy as np\n",
    "from dask.distributed import Client, wait, fire_and_forget"
   ]
  },
  {
   "cell_type": "code",
   "execution_count": 4,
   "metadata": {},
   "outputs": [
    {
     "name": "stdout",
     "output_type": "stream",
     "text": [
      "Number of cores: 8\n"
     ]
    }
   ],
   "source": [
    "# Identify CPU cores\n",
    "num_cores = cpu_count()\n",
    "print(f\"Number of cores: {num_cores}\")"
   ]
  },
  {
   "cell_type": "markdown",
   "metadata": {},
   "source": [
    "Concurrent Processing (enables dynamic sharing and allocation of memory and compute runtime)"
   ]
  },
  {
   "cell_type": "markdown",
   "metadata": {},
   "source": [
    "Introduction to DASK"
   ]
  },
  {
   "cell_type": "code",
   "execution_count": 11,
   "metadata": {},
   "outputs": [
    {
     "name": "stdout",
     "output_type": "stream",
     "text": [
      "[  1   4   9  16  25  36  49  64  81 100]\n"
     ]
    }
   ],
   "source": [
    "# array with 2 chunks\n",
    "arr = da.from_array(\n",
    "    list(range(1,11)),\n",
    "    chunks=2)\n",
    "\n",
    "# function to square the array\n",
    "squared = arr ** 2\n",
    "\n",
    "# execute the function\n",
    "results = squared.compute()\n",
    "print(results)"
   ]
  },
  {
   "cell_type": "markdown",
   "metadata": {},
   "source": [
    "Features of DASK\n",
    "1. Tasks and Graphs\n",
    "2. Lazy Evaluation\n",
    "3. Partitioning and Chunking\n",
    "4. Serialization and Pickling"
   ]
  },
  {
   "cell_type": "markdown",
   "metadata": {},
   "source": [
    "DASK Architecture\n",
    "1. Core Library\n",
    "2. Schedulers\n",
    "3. Client\n",
    "4. Workers\n",
    "5. Task Graphs\n"
   ]
  },
  {
   "cell_type": "markdown",
   "metadata": {},
   "source": [
    "Data Structures and Concepts"
   ]
  },
  {
   "cell_type": "code",
   "execution_count": 18,
   "metadata": {},
   "outputs": [
    {
     "name": "stdout",
     "output_type": "stream",
     "text": [
      "dask.array<random_sample, shape=(10, 10), dtype=float64, chunksize=(2, 2), chunktype=numpy.ndarray>\n",
      "[[5.32417683e-01 7.31212462e-01 2.26441773e-01 2.65086129e-01\n",
      "  3.74713874e-01 3.91903311e-01 4.25552155e-01 3.52020938e-01\n",
      "  3.93620866e-01 6.06909171e-01]\n",
      " [6.89908844e-01 2.70881272e-01 8.06420086e-01 9.95337950e-01\n",
      "  6.39409310e-01 1.47573888e-01 3.88624437e-01 8.27375637e-01\n",
      "  6.17442184e-01 3.85097721e-01]\n",
      " [1.60060423e-01 2.12389457e-01 7.76628912e-01 8.81995273e-01\n",
      "  5.23914169e-01 1.97197071e-01 9.90626460e-01 7.28679436e-01\n",
      "  6.32861279e-01 5.35478384e-01]\n",
      " [8.32615393e-01 6.18044215e-01 3.61348301e-01 4.16297613e-01\n",
      "  1.09554175e-01 4.71715798e-01 4.27315546e-01 5.05979390e-01\n",
      "  2.47315457e-01 7.40052324e-01]\n",
      " [7.56796682e-01 4.33377446e-02 2.22865618e-01 4.93686744e-02\n",
      "  8.61571105e-02 6.77816515e-01 8.73012432e-01 5.21226588e-01\n",
      "  9.32114335e-01 8.64248259e-01]\n",
      " [4.06827226e-01 2.10568202e-01 5.55521725e-01 5.03312541e-01\n",
      "  6.60284059e-01 2.57151987e-01 6.47367866e-01 4.06113236e-01\n",
      "  9.26344951e-01 9.00798034e-01]\n",
      " [1.40366321e-01 8.19856482e-01 3.82355797e-01 1.69134895e-01\n",
      "  2.81338917e-01 7.61819998e-01 1.72261793e-01 4.23741209e-01\n",
      "  3.40834319e-02 6.19297728e-01]\n",
      " [2.59507546e-01 9.71468049e-01 4.77583695e-01 8.33019303e-01\n",
      "  6.32749162e-01 1.81849786e-01 8.81641687e-01 6.66023945e-01\n",
      "  6.53187820e-01 3.62564690e-01]\n",
      " [8.03112765e-02 3.81121835e-01 8.50904586e-01 6.52836288e-01\n",
      "  6.47480834e-01 5.92358629e-01 2.22396707e-04 9.66541232e-01\n",
      "  4.96382156e-01 3.87997519e-01]\n",
      " [1.25486576e-01 7.78329884e-01 1.62924180e-01 4.80352892e-01\n",
      "  5.53776374e-01 3.28419520e-01 6.97495134e-01 3.74760326e-01\n",
      "  7.95148077e-01 9.33162329e-01]]\n",
      "dask.array<rechunk-merge, shape=(10, 10), dtype=float64, chunksize=(5, 5), chunktype=numpy.ndarray>\n",
      "0.5094911684747747\n"
     ]
    }
   ],
   "source": [
    "#  create random array\n",
    "var_1 = array.random.random(\n",
    "    (10, 10),\n",
    "    chunks=(2,2)\n",
    ")\n",
    "\n",
    "print(var_1)\n",
    "\n",
    "# Execute random array\n",
    "print(var_1.compute())\n",
    "\n",
    "# persists the data in memory\n",
    "var_2 = var_1.persist()\n",
    "\n",
    "# re-chunk the array\n",
    "var_1 = var_1.rechunk((5,5))\n",
    "\n",
    "print(var_1)\n",
    "\n",
    "# compute the mean\n",
    "dask_mean = var_1.mean().compute()\n",
    "\n",
    "print(dask_mean)"
   ]
  },
  {
   "cell_type": "markdown",
   "metadata": {},
   "source": [
    "DASK Bags (collection of items that can be repeated)"
   ]
  },
  {
   "cell_type": "code",
   "execution_count": 33,
   "metadata": {},
   "outputs": [
    {
     "name": "stdout",
     "output_type": "stream",
     "text": [
      "dask.bag<from_sequence, npartitions=2>\n",
      "[1, 2, 3, 4, 5, 6, 7, 8, 9, 10]\n",
      "(['drug_company', 'drug_name', 'drug_code', 'drug_price', 'drug_in_stock', 'drug_release_date'], ['AMI Cosmetic Co.,Ltd.', 'Glycerin', '356082843-0', '21.77', 'true', '1/11/2022'], ['Apotheca Company', 'Berberis vulgaris, Hydrangea arborescens, Petroselinum sativum, Solidago virgaurea, Uva-ursi, Rubia tinctorum, Glutathiona, Kidney (suis), Bryonia, Eupatorium purpureum, Mercurius corrosivus,', '641668608-2', '333.3', 'false', '4/27/2022'], ['Blenheim Pharmacal, Inc.', 'Topiramate', '225672839-0', '630.5', 'false', '4/16/2022'], ['Aurobindo Pharma Limited', 'Carvedilol', '295230280-4', '129.39', 'false', '5/3/2022'])\n",
      "1001\n",
      "Dask DataFrame Structure:\n",
      "              drug_company drug_name drug_code drug_price drug_in_stock drug_release_date\n",
      "npartitions=1                                                                            \n",
      "                    string    string    string    float64          bool            string\n",
      "                       ...       ...       ...        ...           ...               ...\n",
      "Dask Name: read_csv, 1 expression\n",
      "Expr=ReadCSV(b7e8802)\n",
      "                    drug_company  \\\n",
      "0          AMI Cosmetic Co.,Ltd.   \n",
      "1               Apotheca Company   \n",
      "2       Blenheim Pharmacal, Inc.   \n",
      "3       Aurobindo Pharma Limited   \n",
      "4               Albert Max, Inc.   \n",
      "..                           ...   \n",
      "995                     Mckesson   \n",
      "996  Physicians Total Care, Inc.   \n",
      "997         TOPCO ASSOCIATES LLC   \n",
      "998                  Blistex Inc   \n",
      "999            CVS Pharmacy, Inc   \n",
      "\n",
      "                                             drug_name    drug_code  \\\n",
      "0                                             Glycerin  356082843-0   \n",
      "1    Berberis vulgaris, Hydrangea arborescens, Petr...  641668608-2   \n",
      "2                                           Topiramate  225672839-0   \n",
      "3                                           Carvedilol  295230280-4   \n",
      "4                  MENTHOL, METHYL SALYCILATE, BORNEOL  688657119-2   \n",
      "..                                                 ...          ...   \n",
      "995      Acetaminophen, guaifenesin, Phenylephrine HCl  136454682-5   \n",
      "996                               Atorvastatin Calcium  652540497-5   \n",
      "997                                        WITCH HAZEL  940746802-X   \n",
      "998                                     Salicylic Acid  785698926-2   \n",
      "999                                   Magesium Citrate  388710436-6   \n",
      "\n",
      "     drug_price  drug_in_stock drug_release_date  \n",
      "0         21.77           True         1/11/2022  \n",
      "1        333.30          False         4/27/2022  \n",
      "2        630.50          False         4/16/2022  \n",
      "3        129.39          False          5/3/2022  \n",
      "4        761.70           True         1/11/2022  \n",
      "..          ...            ...               ...  \n",
      "995      332.11          False        10/12/2022  \n",
      "996      910.76          False         4/10/2022  \n",
      "997      396.39          False        12/25/2022  \n",
      "998      767.69           True        11/15/2022  \n",
      "999      370.41          False          2/6/2022  \n",
      "\n",
      "[1000 rows x 6 columns]\n"
     ]
    }
   ],
   "source": [
    "# create a bag\n",
    "new_bag = bag.from_sequence(\n",
    "    list(range(1, 11)),\n",
    "    npartitions=2\n",
    ")\n",
    "\n",
    "print(new_bag)\n",
    "print(new_bag.compute())\n",
    "\n",
    "# reading a csv into a bag\n",
    "data_path = \"/Users/pepijnschouten/Desktop/\" \\\n",
    "    \"Python_Scripts/Python_Scripts_Books/\" \\\n",
    "        \"Data_Engineering/Data_Engineering_\" \\\n",
    "            \"for_ML_Pipelines/Own_Files/7_\" \\\n",
    "                \"Currency_Programming_Dask/\" \\\n",
    "                    \"data/MockarooHealth.csv\"\n",
    "bags = (bag\n",
    "        .read_text(data_path)\n",
    "        .map(\n",
    "            lambda x: next(csv.reader([x]))\n",
    "        )\n",
    ")\n",
    "print(bags.take(5))\n",
    "print(bags.count().compute())\n",
    "\n",
    "# read csv file with read_csv\n",
    "df = dd.read_csv(\n",
    "    data_path,\n",
    ")\n",
    "\n",
    "print(df)\n",
    "print(df.compute())\n",
    "\n"
   ]
  },
  {
   "cell_type": "markdown",
   "metadata": {},
   "source": [
    "DASK Dataframes"
   ]
  },
  {
   "cell_type": "code",
   "execution_count": 30,
   "metadata": {},
   "outputs": [
    {
     "name": "stdout",
     "output_type": "stream",
     "text": [
      "Dask DataFrame Structure:\n",
      "                     A        B        C\n",
      "npartitions=3                           \n",
      "0              float64  float64  float64\n",
      "4                  ...      ...      ...\n",
      "7                  ...      ...      ...\n",
      "9                  ...      ...      ...\n",
      "Dask Name: frompandas, 1 expression\n",
      "Expr=df\n",
      "          A         B         C\n",
      "0 -0.699248  0.472184  0.022455\n",
      "1  0.543422 -0.235156 -0.907532\n",
      "2 -0.885800 -0.418766 -1.173000\n",
      "3  0.417280  0.365805 -0.593429\n",
      "4  0.164768  1.455225  2.127391\n",
      "5 -1.198969  2.365862 -0.328624\n",
      "6  0.487740 -0.446207 -0.235864\n",
      "7  0.793408 -1.115113  0.501886\n",
      "8 -0.217239 -0.323574 -1.055606\n",
      "9  2.545306  0.667405  1.288889\n"
     ]
    }
   ],
   "source": [
    "# optimize query planning\n",
    "dask.config.set(\n",
    "    {\"dataframe.query-planning\": True})\n",
    "\n",
    "#  create a dask dataframe from pandas\n",
    "df = dd.from_pandas(\n",
    "    pd.DataFrame(\n",
    "        np.random.randn(10,3),\n",
    "        columns=[\"A\", \"B\", \"C\"]\n",
    "    ),\n",
    "    npartitions=3\n",
    ")\n",
    "\n",
    "print(df)\n",
    "print(df.compute())"
   ]
  },
  {
   "cell_type": "markdown",
   "metadata": {},
   "source": [
    "DASK Delayed"
   ]
  },
  {
   "cell_type": "code",
   "execution_count": 54,
   "metadata": {},
   "outputs": [
    {
     "name": "stdout",
     "output_type": "stream",
     "text": [
      "[6, 12, 20, 30, 42, 56, 72, 90, 110, 132, 156, 182, 210, 240, 272, 306, 342, 380, 420, 462, 506, 552, 600, 650, 702, 756, 812, 870, 930, 992, 1056, 1122, 1190, 1260, 1332, 1406, 1482, 1560, 1640, 1722, 1806, 1892, 1980, 2070, 2162, 2256, 2352, 2450, 2550, 2652, 2756, 2862, 2970, 3080, 3192, 3306, 3422, 3540, 3660, 3782, 3906, 4032, 4160, 4290, 4422, 4556, 4692, 4830, 4970, 5112, 5256, 5402, 5550, 5700, 5852, 6006, 6162, 6320, 6480, 6642, 6806, 6972, 7140, 7310, 7482, 7656, 7832, 8010, 8190, 8372, 8556, 8742, 8930, 9120, 9312, 9506, 9702, 9900, 10100, 10302]\n",
      "[6, 12, 20, 30, 42, 56, 72, 90, 110, 132, 156, 182, 210, 240, 272, 306, 342, 380, 420, 462, 506, 552, 600, 650, 702, 756, 812, 870, 930, 992, 1056, 1122, 1190, 1260, 1332, 1406, 1482, 1560, 1640, 1722, 1806, 1892, 1980, 2070, 2162, 2256, 2352, 2450, 2550, 2652, 2756, 2862, 2970, 3080, 3192, 3306, 3422, 3540, 3660, 3782, 3906, 4032, 4160, 4290, 4422, 4556, 4692, 4830, 4970, 5112, 5256, 5402, 5550, 5700, 5852, 6006, 6162, 6320, 6480, 6642, 6806, 6972, 7140, 7310, 7482, 7656, 7832, 8010, 8190, 8372, 8556, 8742, 8930, 9120, 9312, 9506, 9702, 9900, 10100, 10302]\n",
      "(6, 12, 20, 30, 42, 56, 72, 90, 110, 132, 156, 182, 210, 240, 272, 306, 342, 380, 420, 462, 506, 552, 600, 650, 702, 756, 812, 870, 930, 992, 1056, 1122, 1190, 1260, 1332, 1406, 1482, 1560, 1640, 1722, 1806, 1892, 1980, 2070, 2162, 2256, 2352, 2450, 2550, 2652, 2756, 2862, 2970, 3080, 3192, 3306, 3422, 3540, 3660, 3782, 3906, 4032, 4160, 4290, 4422, 4556, 4692, 4830, 4970, 5112, 5256, 5402, 5550, 5700, 5852, 6006, 6162, 6320, 6480, 6642, 6806, 6972, 7140, 7310, 7482, 7656, 7832, 8010, 8190, 8372, 8556, 8742, 8930, 9120, 9312, 9506, 9702, 9900, 10100, 10302)\n"
     ]
    }
   ],
   "source": [
    "def add(x):\n",
    "    return x + 1\n",
    "\n",
    "def square(x):\n",
    "    return x * x\n",
    "\n",
    "def square_add(a, b):\n",
    "    return a + b\n",
    "\n",
    "data = list(range(1, 101))\n",
    "\n",
    "# sequential execution\n",
    "output = []\n",
    "for x in data:\n",
    "    a = add(x)\n",
    "    b = square(a)\n",
    "    c = square_add(a, b)\n",
    "    output.append(c)\n",
    "print(output)\n",
    "\n",
    "# parallel execution with delayed\n",
    "output = []\n",
    "for x in data:\n",
    "    a = dask.delayed(add)(x)\n",
    "    b = dask.delayed(square)(a)\n",
    "    c = dask.delayed(square_add)(a, b)\n",
    "    d = c.compute()\n",
    "    output.append(d)\n",
    "print(output)  \n",
    "\n",
    "#  parallel execution with decorators\n",
    "@dask.delayed\n",
    "def add(x):\n",
    "    return x + 1\n",
    "\n",
    "@dask.delayed\n",
    "def square(x):\n",
    "    return x * x\n",
    "\n",
    "@dask.delayed\n",
    "def square_add(a, b):\n",
    "    return a + b\n",
    "\n",
    "output = []\n",
    "for x in data:\n",
    "    a = add(x)\n",
    "    b = square(a)\n",
    "    c = square_add(a, b)\n",
    "    output.append(c)\n",
    "print(dask.compute(*output))"
   ]
  },
  {
   "cell_type": "markdown",
   "metadata": {},
   "source": [
    "DASK Futures (placeholder for future executions)"
   ]
  },
  {
   "cell_type": "code",
   "execution_count": 59,
   "metadata": {},
   "outputs": [
    {
     "name": "stdout",
     "output_type": "stream",
     "text": [
      "<Client: 'inproc://192.168.0.114/97082/82' processes=1 threads=8, memory=8.00 GiB>\n",
      "<Future: pending, key: square-8bcc3301ef4c977960343a0eba929844>\n",
      "100\n"
     ]
    },
    {
     "name": "stderr",
     "output_type": "stream",
     "text": [
      "/opt/miniconda3/envs/data_eng/lib/python3.12/site-packages/distributed/node.py:182: UserWarning: Port 8787 is already in use.\n",
      "Perhaps you already have a cluster running?\n",
      "Hosting the HTTP server on port 55400 instead\n",
      "  warnings.warn(\n"
     ]
    }
   ],
   "source": [
    "# start a client\n",
    "client = Client(processes=False)\n",
    "print(client)\n",
    "\n",
    "# submit tasks to DASK scheduler\n",
    "def square(x):\n",
    "    return x**2\n",
    "\n",
    "a = client.submit(square, 10)\n",
    "b = client.submit(square, 20)\n",
    "\n",
    "print(a)\n",
    "# ask for result\n",
    "print(a.result())\n",
    "\n",
    "# cancel a future\n",
    "\"\"\"a.cancel()\"\"\"\n",
    "\n",
    "# wait on a future\n",
    "\"\"\"wait(a)\"\"\"\n",
    "\n",
    "# fire and forget\n",
    "fire_and_forget(a)"
   ]
  },
  {
   "cell_type": "markdown",
   "metadata": {},
   "source": [
    "Data Locality"
   ]
  },
  {
   "cell_type": "code",
   "execution_count": 61,
   "metadata": {},
   "outputs": [
    {
     "name": "stdout",
     "output_type": "stream",
     "text": [
      "496.369503945885\n"
     ]
    },
    {
     "name": "stderr",
     "output_type": "stream",
     "text": [
      "/opt/miniconda3/envs/data_eng/lib/python3.12/site-packages/distributed/node.py:182: UserWarning: Port 8787 is already in use.\n",
      "Perhaps you already have a cluster running?\n",
      "Hosting the HTTP server on port 57762 instead\n",
      "  warnings.warn(\n"
     ]
    }
   ],
   "source": [
    "client = Client(\n",
    "    processes=False,\n",
    ")\n",
    "\n",
    "df = dd.read_csv(\n",
    "    data_path,\n",
    ")\n",
    "\n",
    "result = df[\"drug_price\"].mean()\n",
    "final_result = result.compute()\n",
    "\n",
    "print(final_result)\n",
    "\n",
    "# specify which workers process which tasks\n",
    "\"\"\"client.submit(result, *args, workers=IP/Hostname)\"\"\"\n"
   ]
  },
  {
   "cell_type": "markdown",
   "metadata": {},
   "source": [
    "Prioritizing Work"
   ]
  },
  {
   "cell_type": "code",
   "execution_count": null,
   "metadata": {},
   "outputs": [],
   "source": [
    "# higher priority\n",
    "a = client.submit(square, 10,\n",
    "                  priority=10)\n",
    "\n",
    "# lower priority\n",
    "b = client.submit(square, 20,\n",
    "                  priority=1)"
   ]
  }
 ],
 "metadata": {
  "kernelspec": {
   "display_name": "data_eng",
   "language": "python",
   "name": "python3"
  },
  "language_info": {
   "codemirror_mode": {
    "name": "ipython",
    "version": 3
   },
   "file_extension": ".py",
   "mimetype": "text/x-python",
   "name": "python",
   "nbconvert_exporter": "python",
   "pygments_lexer": "ipython3",
   "version": "3.12.2"
  }
 },
 "nbformat": 4,
 "nbformat_minor": 2
}
