{
 "cells": [
  {
   "cell_type": "code",
   "execution_count": null,
   "metadata": {},
   "outputs": [],
   "source": [
    "import polars as pl\n",
    "from datetime import date"
   ]
  },
  {
   "cell_type": "markdown",
   "metadata": {},
   "source": [
    "Series"
   ]
  },
  {
   "cell_type": "code",
   "execution_count": null,
   "metadata": {},
   "outputs": [],
   "source": [
    "s = pl.Series(\n",
    "    \"ints\",\n",
    "    [1, 2, 3, 4, 5]\n",
    ")\n",
    "print(s)"
   ]
  },
  {
   "cell_type": "code",
   "execution_count": null,
   "metadata": {},
   "outputs": [],
   "source": [
    "# specific data type\n",
    "s2 = pl.Series(\n",
    "    \"ints\",\n",
    "    [1, 2, 3, 4, 5],\n",
    "    dtype=pl.UInt64\n",
    ")\n",
    "print(s.dtype, s2.dtype)"
   ]
  },
  {
   "cell_type": "markdown",
   "metadata": {},
   "source": [
    "Dataframe"
   ]
  },
  {
   "cell_type": "code",
   "execution_count": null,
   "metadata": {},
   "outputs": [],
   "source": [
    "df = pl.DataFrame(\n",
    "    {\n",
    "        \"name\": \n",
    "            [\n",
    "                \"John\", \"Jane\", \"Joe\", \"Alice\"\n",
    "            ],\n",
    "        \"birthdate\":\n",
    "            [\n",
    "                date(1997, 1, 10),\n",
    "                date(1985, 2, 14),\n",
    "                date(1990, 7, 18),\n",
    "                date(1981, 2, 1)\n",
    "            ],\n",
    "        \"weight\":\n",
    "            [\n",
    "                57.9, 80.5, 90.2, 72.5\n",
    "            ],\n",
    "        \"height\":\n",
    "            [\n",
    "                1.70, 1.65, 1.80, 1.55\n",
    "            ]\n",
    "            \n",
    "    }\n",
    ")\n",
    "\n",
    "print(df)"
   ]
  },
  {
   "cell_type": "code",
   "execution_count": null,
   "metadata": {},
   "outputs": [],
   "source": [
    "# inspecting\n",
    "print(df.head(3))\n",
    "\n",
    "print(df.glimpse(return_as_string=True))\n",
    "\n",
    "print(df.tail(3))\n",
    "\n",
    "print(df.sample(2))"
   ]
  },
  {
   "cell_type": "code",
   "execution_count": null,
   "metadata": {},
   "outputs": [],
   "source": [
    "# describe\n",
    "print(df.describe())\n",
    "\n",
    "# schema\n",
    "print(df.schema)\n",
    "\n",
    "# overwrite schema\n",
    "df = pl.DataFrame({\"name\": [\"John\", \"Jane\", \"Joe\", \"Alice\"],\n",
    "                   \"age\": [25, 30, 35, 40],},\n",
    "                  schema={\"name\": None,  # do not overwrite\n",
    "                          \"age\": pl.Int64})\n",
    "print(df.schema)"
   ]
  },
  {
   "cell_type": "code",
   "execution_count": null,
   "metadata": {},
   "outputs": [],
   "source": []
  }
 ],
 "metadata": {
  "kernelspec": {
   "display_name": "data_eng",
   "language": "python",
   "name": "python3"
  },
  "language_info": {
   "codemirror_mode": {
    "name": "ipython",
    "version": 3
   },
   "file_extension": ".py",
   "mimetype": "text/x-python",
   "name": "python",
   "nbconvert_exporter": "python",
   "pygments_lexer": "ipython3",
   "version": "3.12.2"
  }
 },
 "nbformat": 4,
 "nbformat_minor": 2
}
