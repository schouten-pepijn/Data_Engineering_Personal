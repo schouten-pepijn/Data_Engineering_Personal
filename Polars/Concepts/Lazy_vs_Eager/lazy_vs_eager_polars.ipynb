{
 "cells": [
  {
   "cell_type": "code",
   "execution_count": null,
   "metadata": {},
   "outputs": [],
   "source": [
    "import polars as pl"
   ]
  },
  {
   "cell_type": "markdown",
   "metadata": {},
   "source": [
    "Eager API"
   ]
  },
  {
   "cell_type": "code",
   "execution_count": null,
   "metadata": {},
   "outputs": [],
   "source": [
    "data_path = \"/Users/pepijnschouten/Desktop/Python_Scripts/Python_scripts_Varia/Polars/Concepts/data/iris.csv\"\n",
    "\n",
    "df = pl.read_csv(data_path,\n",
    "    has_header=True,\n",
    "    infer_schema=True)\n",
    "\n",
    "print(df.schema)"
   ]
  },
  {
   "cell_type": "code",
   "execution_count": null,
   "metadata": {},
   "outputs": [],
   "source": [
    "df_small = df.filter(\n",
    "    pl.col(\"sepal.length\") > 5\n",
    ")\n",
    "df_agg = (df_small\n",
    "          .group_by(pl.col(\"variety\"))\n",
    "          .agg(pl.col(\"sepal.width\").mean())\n",
    ")\n",
    "print(df_agg)"
   ]
  },
  {
   "cell_type": "markdown",
   "metadata": {},
   "source": [
    "Lazy API"
   ]
  },
  {
   "cell_type": "code",
   "execution_count": null,
   "metadata": {},
   "outputs": [],
   "source": [
    "# evaluation on execution\n",
    "q = (\n",
    "    pl.scan_csv(data_path)\n",
    "    .filter(pl.col(\"sepal.length\") > 5)\n",
    "    .group_by(pl.col(\"variety\"))\n",
    "    .agg(pl.col(\"sepal.width\").mean())\n",
    ")\n",
    "\n",
    "df = q.collect()\n",
    "print(df)"
   ]
  },
  {
   "cell_type": "code",
   "execution_count": null,
   "metadata": {},
   "outputs": [],
   "source": [
    "# print query plann\n",
    "print(q.explain())"
   ]
  },
  {
   "cell_type": "code",
   "execution_count": null,
   "metadata": {},
   "outputs": [],
   "source": []
  }
 ],
 "metadata": {
  "kernelspec": {
   "display_name": "data_eng",
   "language": "python",
   "name": "python3"
  },
  "language_info": {
   "codemirror_mode": {
    "name": "ipython",
    "version": 3
   },
   "file_extension": ".py",
   "mimetype": "text/x-python",
   "name": "python",
   "nbconvert_exporter": "python",
   "pygments_lexer": "ipython3",
   "version": "3.12.2"
  }
 },
 "nbformat": 4,
 "nbformat_minor": 2
}
