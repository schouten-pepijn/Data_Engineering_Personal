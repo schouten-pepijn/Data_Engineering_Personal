{
 "cells": [
  {
   "cell_type": "code",
   "execution_count": null,
   "metadata": {},
   "outputs": [],
   "source": [
    "import polars as pl\n",
    "from datetime import datetime, timedelta, date"
   ]
  },
  {
   "cell_type": "code",
   "execution_count": null,
   "metadata": {},
   "outputs": [],
   "source": [
    "import polars as pl\n",
    "from datetime import datetime, timedelta\n",
    "\n",
    "# Create a date range\n",
    "start_date = datetime(2022, 1, 1)\n",
    "end_date = datetime(2022, 1, 31)\n",
    "dates = [start_date + timedelta(days=i) for i in range((end_date - start_date).days + 1)]\n",
    "\n",
    "# Create fake stock data\n",
    "stock_data = pl.DataFrame({\n",
    "    \"Date\": [str(date) for date in dates],\n",
    "    \"AAPL\": [100 + i * 0.5 for i in range(len(dates))],\n",
    "    \"GOOG\": [500 + i * 2 for i in range(len(dates))],\n",
    "    \"MSFT\": [200 + i * 1 for i in range(len(dates))],\n",
    "    \"AMZN\": [300 + i * 1.5 for i in range(len(dates))]\n",
    "})"
   ]
  },
  {
   "cell_type": "markdown",
   "metadata": {},
   "source": [
    "Time data"
   ]
  },
  {
   "cell_type": "code",
   "execution_count": null,
   "metadata": {},
   "outputs": [],
   "source": [
    "# Casting the string date column to a datetime type\n",
    "stock_data = stock_data.with_columns(\n",
    "    pl.col(\"Date\").str.to_date(\"%Y-%m-%d %H:%M:%S\").alias(\"Date\")\n",
    ")\n",
    "print(stock_data.head())\n"
   ]
  },
  {
   "cell_type": "code",
   "execution_count": null,
   "metadata": {},
   "outputs": [],
   "source": [
    "# extracting features from a date column\n",
    "df_with_year = stock_data.with_columns(\n",
    "    pl.col(\"Date\").dt.year().alias(\"year\"),\n",
    ")\n",
    "print(df_with_year)"
   ]
  },
  {
   "cell_type": "markdown",
   "metadata": {},
   "source": [
    "Filtering"
   ]
  },
  {
   "cell_type": "code",
   "execution_count": null,
   "metadata": {},
   "outputs": [],
   "source": [
    "# single data\n",
    "filtered_df = stock_data.filter(\n",
    "    pl.col(\"Date\") == datetime(2022, 1, 1)\n",
    ")\n",
    "print(filtered_df)"
   ]
  },
  {
   "cell_type": "code",
   "execution_count": null,
   "metadata": {},
   "outputs": [],
   "source": [
    "# date range\n",
    "filtered_range_df = stock_data.filter(\n",
    "    pl.col(\"Date\").is_between(\n",
    "        datetime(2022, 1, 1), datetime(2022, 1, 10)\n",
    "    )\n",
    ")\n",
    "print(filtered_range_df)"
   ]
  },
  {
   "cell_type": "markdown",
   "metadata": {},
   "source": [
    "Grouping"
   ]
  },
  {
   "cell_type": "code",
   "execution_count": null,
   "metadata": {},
   "outputs": [],
   "source": [
    "# group by fixed window (dates need to be sorted)\n",
    "df = stock_data.sort(\"Date\")\n",
    "df = df.group_by_dynamic(\n",
    "    \"Date\",\n",
    "    every=\"1w\"\n",
    ").agg(pl.col(\"AAPL\", \"GOOG\", \"MSFT\", \"AMZN\").mean())\n",
    "df = df.with_columns(\n",
    "    pl.col(\"Date\").dt.week().alias(\"Week\")\n",
    ")\n",
    "print(df)"
   ]
  },
  {
   "cell_type": "code",
   "execution_count": null,
   "metadata": {},
   "outputs": [],
   "source": [
    "# expressions in a groupby dynamic\n",
    "df = (\n",
    "    pl.date_range(\n",
    "        start=date(2021, 1, 1),\n",
    "        end=date(2021, 12, 31),\n",
    "        interval=\"1d\",\n",
    "        eager=True,\n",
    "    )\n",
    "    .alias(\"time\")\n",
    "    .to_frame()\n",
    ")\n",
    "\n",
    "out = df.group_by_dynamic(\"time\", every=\"1mo\", period=\"1mo\", closed=\"left\").agg(\n",
    "    pl.col(\"time\").cum_count().reverse().head(3).alias(\"day/eom\"),\n",
    "    ((pl.col(\"time\") - pl.col(\"time\").first()).last().dt.total_days() + 1).alias(\n",
    "        \"days_in_month\"\n",
    "    ),\n",
    ")\n",
    "print(out)"
   ]
  },
  {
   "cell_type": "markdown",
   "metadata": {},
   "source": [
    "Resampling"
   ]
  },
  {
   "cell_type": "code",
   "execution_count": null,
   "metadata": {},
   "outputs": [],
   "source": [
    "df = pl.DataFrame(\n",
    "    {\n",
    "        \"time\": pl.datetime_range(\n",
    "            start=datetime(2021, 12, 16),\n",
    "            end=datetime(2021, 12, 16, 3),\n",
    "            interval=\"30m\",\n",
    "            eager=True,\n",
    "        ),\n",
    "        \"groups\": [\"a\", \"a\", \"a\", \"b\", \"b\", \"a\", \"a\"],\n",
    "        \"values\": [1.0, 2.0, 3.0, 4.0, 5.0, 6.0, 7.0],\n",
    "    }\n",
    ")\n",
    "print(df)"
   ]
  },
  {
   "cell_type": "code",
   "execution_count": null,
   "metadata": {},
   "outputs": [],
   "source": [
    "# upsample with forward fill\n",
    "out1 = df.upsample(\n",
    "    time_column=\"time\", every=\"15m\"\n",
    ").fill_null(strategy=\"forward\")\n",
    "print(out1)\n",
    "\n",
    "# upsample with linear interpolation\n",
    "out2 = df.upsample(\n",
    "    time_column=\"time\", every=\"15m\"\n",
    ").interpolate().fill_null(strategy=\"forward\")\n",
    "print(out2)"
   ]
  }
 ],
 "metadata": {
  "kernelspec": {
   "display_name": "data_eng",
   "language": "python",
   "name": "python3"
  },
  "language_info": {
   "codemirror_mode": {
    "name": "ipython",
    "version": 3
   },
   "file_extension": ".py",
   "mimetype": "text/x-python",
   "name": "python",
   "nbconvert_exporter": "python",
   "pygments_lexer": "ipython3",
   "version": "3.12.2"
  }
 },
 "nbformat": 4,
 "nbformat_minor": 2
}
