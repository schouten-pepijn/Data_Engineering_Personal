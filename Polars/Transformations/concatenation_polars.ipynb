{
 "cells": [
  {
   "cell_type": "code",
   "execution_count": null,
   "metadata": {},
   "outputs": [],
   "source": [
    "import polars as pl"
   ]
  },
  {
   "cell_type": "code",
   "execution_count": null,
   "metadata": {},
   "outputs": [],
   "source": [
    "df_v1 = pl.DataFrame(\n",
    "    {\n",
    "        \"a\": [1],\n",
    "        \"b\": [3],\n",
    "    }\n",
    ")\n",
    "df_v2 = pl.DataFrame(\n",
    "    {\n",
    "        \"a\": [2],\n",
    "        \"b\": [4],\n",
    "    }\n",
    ")"
   ]
  },
  {
   "cell_type": "code",
   "execution_count": null,
   "metadata": {},
   "outputs": [],
   "source": [
    "# long concatenation\n",
    "df_vertical_concat = pl.concat(\n",
    "    [\n",
    "        df_v1,\n",
    "        df_v2,\n",
    "    ],\n",
    "    how=\"vertical\",\n",
    ")\n",
    "print(df_vertical_concat)"
   ]
  },
  {
   "cell_type": "code",
   "execution_count": null,
   "metadata": {},
   "outputs": [],
   "source": [
    "df_h1 = pl.DataFrame(\n",
    "    {\n",
    "        \"l1\": [1, 2],\n",
    "        \"l2\": [3, 4],\n",
    "    }\n",
    ")\n",
    "df_h2 = pl.DataFrame(\n",
    "    {\n",
    "        \"r1\": [5, 6],\n",
    "        \"r2\": [7, 8],\n",
    "        \"r3\": [9, 10],\n",
    "    }\n",
    ")"
   ]
  },
  {
   "cell_type": "code",
   "execution_count": null,
   "metadata": {},
   "outputs": [],
   "source": [
    "# wide concatenation\n",
    "df_horizontal_concat = pl.concat(\n",
    "    [\n",
    "        df_h1,\n",
    "        df_h2,\n",
    "    ],\n",
    "    how=\"horizontal\",\n",
    ")\n",
    "print(df_horizontal_concat)"
   ]
  },
  {
   "cell_type": "code",
   "execution_count": null,
   "metadata": {},
   "outputs": [],
   "source": [
    "df_d1 = pl.DataFrame(\n",
    "    {\n",
    "        \"a\": [1],\n",
    "        \"b\": [3],\n",
    "    }\n",
    ")\n",
    "df_d2 = pl.DataFrame(\n",
    "    {\n",
    "        \"a\": [2],\n",
    "        \"d\": [4],\n",
    "    }\n",
    ")\n"
   ]
  },
  {
   "cell_type": "code",
   "execution_count": null,
   "metadata": {},
   "outputs": [],
   "source": [
    "# diagonal concatenation\n",
    "df_diagonal_concat = pl.concat(\n",
    "    [\n",
    "        df_d1,\n",
    "        df_d2,\n",
    "    ],\n",
    "    how=\"diagonal\",\n",
    ")\n",
    "print(df_diagonal_concat)"
   ]
  }
 ],
 "metadata": {
  "kernelspec": {
   "display_name": "data_eng",
   "language": "python",
   "name": "python3"
  },
  "language_info": {
   "codemirror_mode": {
    "name": "ipython",
    "version": 3
   },
   "file_extension": ".py",
   "mimetype": "text/x-python",
   "name": "python",
   "nbconvert_exporter": "python",
   "pygments_lexer": "ipython3",
   "version": "3.12.2"
  }
 },
 "nbformat": 4,
 "nbformat_minor": 2
}
