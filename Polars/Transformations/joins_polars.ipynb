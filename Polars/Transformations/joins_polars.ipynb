{
 "cells": [
  {
   "cell_type": "code",
   "execution_count": null,
   "metadata": {},
   "outputs": [],
   "source": [
    "import polars as pl\n",
    "from datetime import datetime"
   ]
  },
  {
   "cell_type": "code",
   "execution_count": null,
   "metadata": {},
   "outputs": [],
   "source": [
    "properties = pl.DataFrame({\n",
    "    \"Property_ID\": [1, 2, 3, 4, 5, 6],\n",
    "    \"Property_Name\": [\"Mediterranean Avenue\", \"Baltic Avenue\", \"Oriental Avenue\", \"Vermont Avenue\", \"Connecticut Avenue\", \"States Avenue\"],\n",
    "    \"Color\": [\"Brown\", \"Brown\", \"Light Blue\", \"Light Blue\", \"Light Blue\", \"Pink\"],\n",
    "    \"Rent\": [60, 60, 100, 100, 120, 140]\n",
    "})\n",
    "\n",
    "# Owners dataset\n",
    "owners = pl.DataFrame({\n",
    "    \"Property_ID\": [1, 2, 3, 4, 5],\n",
    "    \"Owner\": [\"John\", \"Jane\", \"John\", \"Jane\", \"Bob\"],\n",
    "    \"Purchase_Price\": [100, 120, 150, 180, 200]\n",
    "})"
   ]
  },
  {
   "cell_type": "markdown",
   "metadata": {},
   "source": [
    "Equi joins"
   ]
  },
  {
   "cell_type": "code",
   "execution_count": null,
   "metadata": {},
   "outputs": [],
   "source": [
    "result = properties.join(\n",
    "    owners, on=\"Property_ID\", how=\"left\")\n",
    "print(result)"
   ]
  },
  {
   "cell_type": "code",
   "execution_count": null,
   "metadata": {},
   "outputs": [],
   "source": [
    "# unequal column names\n",
    "result = properties.join(\n",
    "    owners,\n",
    "    left_on=pl.col(\"Rent\"),\n",
    "    right_on=pl.col(\"Purchase_Price\"),\n",
    "    how=\"full\"\n",
    ")\n",
    "print(result)"
   ]
  },
  {
   "cell_type": "markdown",
   "metadata": {},
   "source": [
    "non-equi joins"
   ]
  },
  {
   "cell_type": "code",
   "execution_count": null,
   "metadata": {},
   "outputs": [],
   "source": [
    "# conditional join\n",
    "result = properties.join_where(\n",
    "    owners,\n",
    "    pl.col(\"Rent\") < pl.col(\"Purchase_Price\"),\n",
    ")\n",
    "print(result)"
   ]
  },
  {
   "cell_type": "code",
   "execution_count": null,
   "metadata": {},
   "outputs": [],
   "source": [
    "df_trades = pl.DataFrame(\n",
    "    {\n",
    "        \"time\": [\n",
    "            datetime(2020, 1, 1, 9, 1, 0),\n",
    "            datetime(2020, 1, 1, 9, 1, 0),\n",
    "            datetime(2020, 1, 1, 9, 3, 0),\n",
    "            datetime(2020, 1, 1, 9, 6, 0),\n",
    "        ],\n",
    "        \"stock\": [\"A\", \"B\", \"B\", \"C\"],\n",
    "        \"trade\": [101, 299, 301, 500],\n",
    "    }\n",
    ")\n",
    "print(df_trades)\n",
    "\n",
    "df_quotes = pl.DataFrame(\n",
    "    {\n",
    "        \"time\": [\n",
    "            datetime(2020, 1, 1, 9, 0, 0),\n",
    "            datetime(2020, 1, 1, 9, 2, 0),\n",
    "            datetime(2020, 1, 1, 9, 4, 0),\n",
    "            datetime(2020, 1, 1, 9, 6, 0),\n",
    "        ],\n",
    "        \"stock\": [\"A\", \"B\", \"C\", \"A\"],\n",
    "        \"quote\": [100, 300, 501, 102],\n",
    "    }\n",
    ")\n",
    "\n",
    "print(df_quotes)"
   ]
  },
  {
   "cell_type": "code",
   "execution_count": null,
   "metadata": {},
   "outputs": [],
   "source": [
    "# joins that approximately equals keys\n",
    "df_asof_tol_join = df_trades.join_asof(\n",
    "    df_quotes,\n",
    "    on='time',\n",
    "    by='stock',\n",
    "    tolerance='1m'\n",
    ")\n",
    "print(df_asof_tol_join)"
   ]
  },
  {
   "cell_type": "code",
   "execution_count": null,
   "metadata": {},
   "outputs": [],
   "source": []
  }
 ],
 "metadata": {
  "kernelspec": {
   "display_name": "data_eng",
   "language": "python",
   "name": "python3"
  },
  "language_info": {
   "codemirror_mode": {
    "name": "ipython",
    "version": 3
   },
   "file_extension": ".py",
   "mimetype": "text/x-python",
   "name": "python",
   "nbconvert_exporter": "python",
   "pygments_lexer": "ipython3",
   "version": "3.12.2"
  }
 },
 "nbformat": 4,
 "nbformat_minor": 2
}
