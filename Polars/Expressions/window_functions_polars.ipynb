{
 "cells": [
  {
   "cell_type": "code",
   "execution_count": null,
   "metadata": {},
   "outputs": [],
   "source": [
    "import polars as pl"
   ]
  },
  {
   "cell_type": "code",
   "execution_count": null,
   "metadata": {},
   "outputs": [],
   "source": [
    "types = (\n",
    "    \"Grass Water Fire Normal Ground Electric Psychic Fighting Bug Steel \"\n",
    "    \"Flying Dragon Dark Ghost Poison Rock Ice Fairy\".split()\n",
    ")\n",
    "type_enum = pl.Enum(types)\n",
    "# then let's load some csv data with information about pokemon\n",
    "pokemon = pl.read_csv(\n",
    "    \"https://gist.githubusercontent.com/ritchie46/cac6b337ea52281aa23c049250a4ff03/raw/89a957ff3919d90e6ef2d34235e6bf22304f3366/pokemon.csv\",\n",
    ").cast({\"Type 1\": type_enum, \"Type 2\": type_enum})\n",
    "print(pokemon.head())"
   ]
  },
  {
   "cell_type": "code",
   "execution_count": null,
   "metadata": {},
   "outputs": [],
   "source": [
    "# rank pokemon by speed within each type in type 1\n",
    "result = pokemon.select(\n",
    "    pl.col(\"Name\", \"Type 1\"),\n",
    "    (pl.col('Speed')\n",
    "     .rank(\"dense\", descending=True)\n",
    "     .over(\"Type 1\")\n",
    "     .alias(\"Speed rank\")\n",
    "     ),\n",
    ")\n",
    "\n",
    "print(result)"
   ]
  },
  {
   "cell_type": "code",
   "execution_count": null,
   "metadata": {},
   "outputs": [],
   "source": [
    "# rank pokemon by speed within each type in type 1 and type 2\n",
    "result = pokemon.select(\n",
    "    pl.col(\"Name\", \"Type 1\", \"Type 2\"),\n",
    "    pl.col(\"Speed\")\n",
    "    .rank(\"dense\", descending=True)\n",
    "    .over(\"Type 1\", \"Type 2\")\n",
    "    .alias(\"Speed rank\"),\n",
    ")\n",
    "\n",
    "print(result)"
   ]
  },
  {
   "cell_type": "code",
   "execution_count": null,
   "metadata": {},
   "outputs": [],
   "source": [
    "# windowed aggregations\n",
    "result = pokemon.select(\n",
    "    pl.col(\"Name\", \"Type 1\", \"Speed\"),\n",
    "    pl.col(\"Speed\").mean().over(pl.col(\"Type 1\")).alias(\"Mean speed in group\"),\n",
    ")\n",
    "\n",
    "print(result)"
   ]
  },
  {
   "cell_type": "code",
   "execution_count": null,
   "metadata": {},
   "outputs": [],
   "source": [
    "# more examples\n",
    "result = pokemon.sort(\"Type 1\").select(\n",
    "    pl.col(\"Type 1\").head(3).over(\"Type 1\", mapping_strategy=\"explode\"),\n",
    "    \n",
    "    pl.col(\"Name\")\n",
    "    .sort_by(pl.col(\"Speed\"), descending=True)\n",
    "    .head(3)\n",
    "    .over(\"Type 1\", mapping_strategy=\"explode\")\n",
    "    .alias(\"fastest/group\"),\n",
    "    \n",
    "    pl.col(\"Name\")\n",
    "    .sort_by(pl.col(\"Attack\"), descending=True)\n",
    "    .head(3)\n",
    "    .over(\"Type 1\", mapping_strategy=\"explode\")\n",
    "    .alias(\"strongest/group\"),\n",
    "    \n",
    "    pl.col(\"Name\")\n",
    "    .sort()\n",
    "    .head(3)\n",
    "    .over(\"Type 1\", mapping_strategy=\"explode\")\n",
    "    .alias(\"sorted_by_alphabet\"),\n",
    ")\n",
    "print(result)"
   ]
  },
  {
   "cell_type": "code",
   "execution_count": null,
   "metadata": {},
   "outputs": [],
   "source": []
  }
 ],
 "metadata": {
  "kernelspec": {
   "display_name": "data_eng",
   "language": "python",
   "name": "python3"
  },
  "language_info": {
   "codemirror_mode": {
    "name": "ipython",
    "version": 3
   },
   "file_extension": ".py",
   "mimetype": "text/x-python",
   "name": "python",
   "nbconvert_exporter": "python",
   "pygments_lexer": "ipython3",
   "version": "3.12.2"
  }
 },
 "nbformat": 4,
 "nbformat_minor": 2
}
