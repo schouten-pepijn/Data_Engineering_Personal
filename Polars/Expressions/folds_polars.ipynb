{
 "cells": [
  {
   "cell_type": "code",
   "execution_count": null,
   "metadata": {},
   "outputs": [],
   "source": [
    "import operator\n",
    "import polars as pl"
   ]
  },
  {
   "cell_type": "code",
   "execution_count": null,
   "metadata": {},
   "outputs": [],
   "source": [
    "df = pl.DataFrame(\n",
    "    {\n",
    "        \"label\": [\"foo\", \"bar\", \"spam\"],\n",
    "        \"a\": [1, 2, 3],\n",
    "        \"b\": [10, 20, 30],\n",
    "    }\n",
    ")"
   ]
  },
  {
   "cell_type": "code",
   "execution_count": null,
   "metadata": {},
   "outputs": [],
   "source": [
    "# perform folds (operations over multiple columns)\n",
    "result = df.select(\n",
    "    pl.fold(\n",
    "        acc=pl.lit(0),\n",
    "        function=operator.add,\n",
    "        exprs=pl.col(\"a\", \"b\"),\n",
    "    ).alias(\"sum_fold\"),\n",
    "    pl.sum_horizontal(pl.col(\"a\", \"b\")).alias(\"sum_horz\"),\n",
    ")\n",
    "\n",
    "print(result)"
   ]
  },
  {
   "cell_type": "code",
   "execution_count": null,
   "metadata": {},
   "outputs": [],
   "source": [
    "# multiply across columns\n",
    "result = df.select(\n",
    "    pl.fold(\n",
    "        acc=pl.lit(1),\n",
    "        function=operator.mul,\n",
    "        exprs=pl.col(\"a\", \"b\"),\n",
    "    ).alias(\"prod\"),\n",
    ")\n",
    "\n",
    "print(result)"
   ]
  },
  {
   "cell_type": "code",
   "execution_count": null,
   "metadata": {},
   "outputs": [],
   "source": [
    "# conditionals\n",
    "df = pl.DataFrame(\n",
    "    {\n",
    "        \"a\": [1, 2, 3],\n",
    "        \"b\": [0, 1, 2],\n",
    "    }\n",
    ")\n",
    "\n",
    "result = df.filter(\n",
    "    pl.fold(\n",
    "        acc=pl.lit(True),\n",
    "        function=lambda acc, x: acc & x,\n",
    "        exprs=pl.all() > 1,\n",
    "    )\n",
    ")\n",
    "print(result)"
   ]
  },
  {
   "cell_type": "code",
   "execution_count": null,
   "metadata": {},
   "outputs": [],
   "source": [
    "# fold with string data\n",
    "df = pl.DataFrame(\n",
    "    {\n",
    "        \"a\": [\"a\", \"b\", \"c\"],\n",
    "        \"b\": [1, 2, 3],\n",
    "    }\n",
    ")\n",
    "\n",
    "result = df.select(pl.concat_str([\"a\", \"b\"]))\n",
    "print(result)"
   ]
  },
  {
   "cell_type": "code",
   "execution_count": null,
   "metadata": {},
   "outputs": [],
   "source": []
  }
 ],
 "metadata": {
  "kernelspec": {
   "display_name": "data_eng",
   "language": "python",
   "name": "python3"
  },
  "language_info": {
   "codemirror_mode": {
    "name": "ipython",
    "version": 3
   },
   "file_extension": ".py",
   "mimetype": "text/x-python",
   "name": "python",
   "nbconvert_exporter": "python",
   "pygments_lexer": "ipython3",
   "version": "3.12.2"
  }
 },
 "nbformat": 4,
 "nbformat_minor": 2
}
