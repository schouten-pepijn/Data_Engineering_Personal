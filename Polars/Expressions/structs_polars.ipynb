{
 "cells": [
  {
   "cell_type": "code",
   "execution_count": null,
   "metadata": {},
   "outputs": [],
   "source": [
    "import polars as pl"
   ]
  },
  {
   "cell_type": "code",
   "execution_count": null,
   "metadata": {},
   "outputs": [],
   "source": [
    "ratings = pl.DataFrame(\n",
    "    {\n",
    "        \"Movie\": [\"Cars\", \"IT\", \"ET\", \"Cars\", \"Up\", \"IT\", \"Cars\", \"ET\", \"Up\", \"Cars\"],\n",
    "        \"Theatre\": [\"NE\", \"ME\", \"IL\", \"ND\", \"NE\", \"SD\", \"NE\", \"IL\", \"IL\", \"NE\"],\n",
    "        \"Avg_Rating\": [4.5, 4.4, 4.6, 4.3, 4.8, 4.7, 4.5, 4.9, 4.7, 4.6],\n",
    "        \"Count\": [30, 27, 26, 29, 31, 28, 28, 26, 33, 28],\n",
    "    }\n",
    ")\n",
    "print(ratings)"
   ]
  },
  {
   "cell_type": "code",
   "execution_count": null,
   "metadata": {},
   "outputs": [],
   "source": [
    "# encountering a struct\n",
    "result = ratings.select(pl.col(\"Theatre\").value_counts(sort=True))\n",
    "print(result)\n",
    "\n",
    "# unnesting a struct\n",
    "result = ratings.select(pl.col(\"Theatre\").value_counts(sort=True)).unnest(\"Theatre\")\n",
    "print(result)"
   ]
  },
  {
   "cell_type": "code",
   "execution_count": null,
   "metadata": {},
   "outputs": [],
   "source": [
    "# dicts will be infered to structs\n",
    "rating_series = pl.Series(\n",
    "    \"ratings\",\n",
    "    [\n",
    "        {\"Movie\": \"Cars\", \"Theatre\": \"NE\", \"Avg_Rating\": 4.5},\n",
    "        {\"Movie\": \"Toy Story\", \"Theatre\": \"ME\", \"Avg_Rating\": 4.9},\n",
    "    ],\n",
    ")\n",
    "print(rating_series)"
   ]
  },
  {
   "cell_type": "code",
   "execution_count": null,
   "metadata": {},
   "outputs": [],
   "source": [
    "# structs with errors\n",
    "null_rating_series = pl.Series(\n",
    "    \"ratings\",\n",
    "    [\n",
    "        {\"Movie\": \"Cars\", \"Theatre\": \"NE\", \"Avg_Rating\": 4.5},\n",
    "        {\"Mov\": \"Toy Story\", \"Theatre\": \"ME\", \"Avg_Rating\": 4.9},\n",
    "        {\"Movie\": \"Snow White\", \"Theatre\": \"IL\", \"Avg_Rating\": \"4.7\"},\n",
    "    ],\n",
    "    strict=False,  # To show the final structs with `null` values.\n",
    ")\n",
    "print(null_rating_series)"
   ]
  },
  {
   "cell_type": "code",
   "execution_count": null,
   "metadata": {},
   "outputs": [],
   "source": [
    "# estracting values from a struct\n",
    "result = null_rating_series.struct.field(\"Movie\")\n",
    "print(result)\n",
    "\n",
    "# renaming field of structs\n",
    "result = rating_series.struct.rename_fields([\"Film\", \"State\", \"Value\"])\n",
    "print(result)\n",
    "print(result.to_frame().unnest(\"ratings\"))"
   ]
  },
  {
   "cell_type": "markdown",
   "metadata": {},
   "source": [
    "Passing multiple columns as input to an expression"
   ]
  },
  {
   "cell_type": "code",
   "execution_count": null,
   "metadata": {},
   "outputs": [],
   "source": [
    "# ackerman function\n",
    "def ack(m, n):\n",
    "    if not m:\n",
    "        return n + 1\n",
    "    if not n:\n",
    "        return ack(m - 1, 1)\n",
    "    return ack(m - 1, ack(m, n - 1))\n",
    "\n",
    "# dataframe without struct\n",
    "values = pl.DataFrame(\n",
    "    {\n",
    "        \"m\": [0, 0, 0, 1, 1, 1, 2],\n",
    "        \"n\": [2, 3, 4, 1, 2, 3, 1],\n",
    "    }\n",
    ")\n",
    "\n",
    "# create a struct and perform expression\n",
    "result = values.with_columns(\n",
    "    pl.struct([\"m\", \"n\"])\n",
    "    .map_elements(lambda s: ack(s[\"m\"], s[\"n\"]), return_dtype=pl.Int64)\n",
    "    .alias(\"ack\")\n",
    ")\n",
    "\n",
    "print(result)"
   ]
  },
  {
   "cell_type": "code",
   "execution_count": null,
   "metadata": {},
   "outputs": [],
   "source": []
  }
 ],
 "metadata": {
  "kernelspec": {
   "display_name": "data_eng",
   "language": "python",
   "name": "python3"
  },
  "language_info": {
   "codemirror_mode": {
    "name": "ipython",
    "version": 3
   },
   "file_extension": ".py",
   "mimetype": "text/x-python",
   "name": "python",
   "nbconvert_exporter": "python",
   "pygments_lexer": "ipython3",
   "version": "3.12.2"
  }
 },
 "nbformat": 4,
 "nbformat_minor": 2
}
