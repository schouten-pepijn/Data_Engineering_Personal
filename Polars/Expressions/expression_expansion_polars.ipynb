{
 "cells": [
  {
   "cell_type": "code",
   "execution_count": null,
   "metadata": {},
   "outputs": [],
   "source": [
    "import polars as pl"
   ]
  },
  {
   "cell_type": "code",
   "execution_count": null,
   "metadata": {},
   "outputs": [],
   "source": [
    "df = pl.DataFrame(\n",
    "    {  # As of 14th October 2024, ~3pm UTC\n",
    "        \"ticker\": [\"AAPL\", \"NVDA\", \"MSFT\", \"GOOG\", \"AMZN\"],\n",
    "        \"company_name\": [\"Apple\", \"NVIDIA\", \"Microsoft\", \"Alphabet (Google)\", \"Amazon\"],\n",
    "        \"price\": [229.9, 138.93, 420.56, 166.41, 188.4],\n",
    "        \"day_high\": [231.31, 139.6, 424.04, 167.62, 189.83],\n",
    "        \"day_low\": [228.6, 136.3, 417.52, 164.78, 188.44],\n",
    "        \"year_high\": [237.23, 140.76, 468.35, 193.31, 201.2],\n",
    "        \"year_low\": [164.08, 39.23, 324.39, 121.46, 118.35],\n",
    "    }\n",
    ")\n",
    "\n",
    "print(df)"
   ]
  },
  {
   "cell_type": "code",
   "execution_count": null,
   "metadata": {},
   "outputs": [],
   "source": [
    "# expansion in col function\n",
    "eur_usd_rate = 1.09  \n",
    "\n",
    "result = df.with_columns(\n",
    "    (\n",
    "        pl.col(\n",
    "            \"price\",\n",
    "            \"day_high\",\n",
    "            \"day_low\",\n",
    "            \"year_high\",\n",
    "            \"year_low\",\n",
    "        )\n",
    "        / eur_usd_rate\n",
    "    ).round(2)\n",
    ")\n",
    "print(result)"
   ]
  },
  {
   "cell_type": "code",
   "execution_count": null,
   "metadata": {},
   "outputs": [],
   "source": [
    "# expansion by data type (float)\n",
    "result = df.with_columns(\n",
    "    (\n",
    "        pl.col(\n",
    "            pl.Float64,\n",
    "            pl.Float32\n",
    "        ) / eur_usd_rate\n",
    "    ).round(2)\n",
    ")\n",
    "print(result)"
   ]
  },
  {
   "cell_type": "code",
   "execution_count": null,
   "metadata": {},
   "outputs": [],
   "source": [
    "# expansion by pattern matching (^ start with, * wildcard, $ end with)\n",
    "result = df.select(\n",
    "    pl.col(\n",
    "        \"ticker\", \"^.*_high$\", \"^.*_low$\"\n",
    "    )\n",
    ")\n",
    "print(result)"
   ]
  },
  {
   "cell_type": "code",
   "execution_count": null,
   "metadata": {},
   "outputs": [],
   "source": [
    "# selecting all columns\n",
    "result = df.select(\n",
    "    pl.all()\n",
    ")\n",
    "print(result)"
   ]
  },
  {
   "cell_type": "code",
   "execution_count": null,
   "metadata": {},
   "outputs": [],
   "source": [
    "# excluding columns\n",
    "result = df.select(\n",
    "    pl.all().exclude(\"ticker\")\n",
    ")\n",
    "print(result)"
   ]
  },
  {
   "cell_type": "code",
   "execution_count": null,
   "metadata": {},
   "outputs": [],
   "source": [
    "# renaming with alias\n",
    "result = df.select(\n",
    "    pl.col(\"ticker\").alias(\"ticker_symbol\")\n",
    ")\n",
    "print(result)"
   ]
  },
  {
   "cell_type": "code",
   "execution_count": null,
   "metadata": {},
   "outputs": [],
   "source": [
    "# prefixing and suffixing columns\n",
    "gbp_usd_rate = 1.31\n",
    "\n",
    "result = df.select(\n",
    "    (pl.col(\"^year_.*$\") / eur_usd_rate).name.prefix(\"in_eur_\"),\n",
    "    (pl.col(\"day_high\", \"day_low\") / gbp_usd_rate).name.suffix(\"_gbp\"),\n",
    ")\n",
    "print(result)"
   ]
  },
  {
   "cell_type": "code",
   "execution_count": null,
   "metadata": {},
   "outputs": [],
   "source": [
    "# programmically generated expressions\n",
    "def amplitude_expressions(time_periods):\n",
    "    for tp in time_periods:\n",
    "        yield (pl.col(f\"{tp}_high\") - pl.col(f\"{tp}_low\")).alias(f\"{tp}_amplitude\")\n",
    "\n",
    "\n",
    "result = df.with_columns(amplitude_expressions([\"day\", \"year\"]))\n",
    "print(result)"
   ]
  },
  {
   "cell_type": "code",
   "execution_count": null,
   "metadata": {},
   "outputs": [],
   "source": []
  }
 ],
 "metadata": {
  "kernelspec": {
   "display_name": "data_eng",
   "language": "python",
   "name": "python3"
  },
  "language_info": {
   "codemirror_mode": {
    "name": "ipython",
    "version": 3
   },
   "file_extension": ".py",
   "mimetype": "text/x-python",
   "name": "python",
   "nbconvert_exporter": "python",
   "pygments_lexer": "ipython3",
   "version": "3.12.2"
  }
 },
 "nbformat": 4,
 "nbformat_minor": 2
}
