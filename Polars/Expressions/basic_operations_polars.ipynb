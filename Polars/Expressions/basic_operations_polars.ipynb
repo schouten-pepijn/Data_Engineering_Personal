{
 "cells": [
  {
   "cell_type": "code",
   "execution_count": null,
   "metadata": {},
   "outputs": [],
   "source": [
    "import polars as pl\n",
    "import numpy as np\n",
    "\n",
    "np.random.seed(42)"
   ]
  },
  {
   "cell_type": "code",
   "execution_count": null,
   "metadata": {},
   "outputs": [],
   "source": [
    "df = pl.DataFrame(\n",
    "    {\n",
    "        \"nrs\": [1, 2, 3, None, 5],\n",
    "        \"names\": [\"foo\", \"ham\", \"spam\", \"egg\", \"spam\"],\n",
    "        \"random\": np.random.rand(5),\n",
    "        \"groups\": [\"A\", \"A\", \"B\", \"A\", \"B\"],\n",
    "    }\n",
    ")\n",
    "print(df)"
   ]
  },
  {
   "cell_type": "markdown",
   "metadata": {},
   "source": [
    "Basic arithmetic"
   ]
  },
  {
   "cell_type": "code",
   "execution_count": null,
   "metadata": {},
   "outputs": [],
   "source": [
    "result = df.select(\n",
    "    (pl.col(\"nrs\") + 5).alias(\"nrs + 5\"),\n",
    "    (pl.col(\"nrs\") - 5).alias(\"nrs - 5\"),\n",
    "    (pl.col(\"nrs\") * pl.col(\"random\")).alias(\"nrs * random\"),\n",
    "    (pl.col(\"nrs\") / pl.col(\"random\")).alias(\"nrs / random\"),\n",
    "    (pl.col(\"nrs\") ** 2).alias(\"nrs ** 2\"),\n",
    "    (pl.col(\"nrs\") % 3).alias(\"nrs % 3\"),\n",
    ")\n",
    "print(result)"
   ]
  },
  {
   "cell_type": "markdown",
   "metadata": {},
   "source": [
    "Comparison"
   ]
  },
  {
   "cell_type": "code",
   "execution_count": null,
   "metadata": {},
   "outputs": [],
   "source": [
    "result = df.select(\n",
    "    (pl.col(\"nrs\") > 1).alias(\"nrs > 1\"),  # .gt\n",
    "    (pl.col(\"nrs\") >= 3).alias(\"nrs >= 3\"),  # ge\n",
    "    (pl.col(\"random\") < 0.2).alias(\"random < .2\"),  # .lt\n",
    "    (pl.col(\"random\") <= 0.5).alias(\"random <= .5\"),  # .le\n",
    "    (pl.col(\"nrs\") != 1).alias(\"nrs != 1\"),  # .ne\n",
    "    (pl.col(\"nrs\") == 1).alias(\"nrs == 1\"),  # .eq\n",
    ")\n",
    "print(result)"
   ]
  },
  {
   "cell_type": "markdown",
   "metadata": {},
   "source": [
    "Boolean operations"
   ]
  },
  {
   "cell_type": "code",
   "execution_count": null,
   "metadata": {},
   "outputs": [],
   "source": [
    "result = df.select(\n",
    "    ((~pl.col(\"nrs\").is_null()) & (pl.col(\"groups\") == \"A\")).alias(\n",
    "        \"number not null and group A\"\n",
    "    ),\n",
    "    ((pl.col(\"random\") < 0.5) | (pl.col(\"groups\") == \"B\")).alias(\n",
    "        \"random < 0.5 or group B\"\n",
    "    ),\n",
    ")\n",
    "\n",
    "print(result)"
   ]
  },
  {
   "cell_type": "markdown",
   "metadata": {},
   "source": [
    "Counting unique values"
   ]
  },
  {
   "cell_type": "code",
   "execution_count": null,
   "metadata": {},
   "outputs": [],
   "source": [
    "long_df = pl.DataFrame({\"numbers\": np.random.randint(0, 100_000, 100_000)})\n",
    "\n",
    "result = long_df.select(\n",
    "    pl.col(\"numbers\").n_unique().alias(\"n_unique\"),\n",
    "    pl.col(\"numbers\").approx_n_unique().alias(\"approx_n_unique\"),\n",
    ")\n",
    "\n",
    "print(result)"
   ]
  },
  {
   "cell_type": "code",
   "execution_count": null,
   "metadata": {},
   "outputs": [],
   "source": [
    "result = df.select(\n",
    "    pl.col(\"names\").value_counts().alias(\"value_counts\"),\n",
    ")\n",
    "\n",
    "print(result)"
   ]
  },
  {
   "cell_type": "markdown",
   "metadata": {},
   "source": [
    "Conditionals"
   ]
  },
  {
   "cell_type": "code",
   "execution_count": null,
   "metadata": {},
   "outputs": [],
   "source": [
    "result = df.select(\n",
    "    pl.col(\"nrs\"),\n",
    "    pl.when(pl.col(\"nrs\") % 2 == 1)  # Is the number odd?\n",
    "    .then(3 * pl.col(\"nrs\") + 1)  # If so, multiply by 3 and add 1.\n",
    "    .otherwise(pl.col(\"nrs\") // 2)  # If not, divide by 2.\n",
    "    .alias(\"Collatz\"),\n",
    ")\n",
    "\n",
    "print(result)"
   ]
  }
 ],
 "metadata": {
  "kernelspec": {
   "display_name": "data_eng",
   "language": "python",
   "name": "python3"
  },
  "language_info": {
   "codemirror_mode": {
    "name": "ipython",
    "version": 3
   },
   "file_extension": ".py",
   "mimetype": "text/x-python",
   "name": "python",
   "nbconvert_exporter": "python",
   "pygments_lexer": "ipython3",
   "version": "3.12.2"
  }
 },
 "nbformat": 4,
 "nbformat_minor": 2
}
