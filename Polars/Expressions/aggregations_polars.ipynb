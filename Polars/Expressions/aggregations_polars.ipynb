{
 "cells": [
  {
   "cell_type": "code",
   "execution_count": null,
   "metadata": {},
   "outputs": [],
   "source": [
    "import polars as pl\n",
    "from datetime import date"
   ]
  },
  {
   "cell_type": "code",
   "execution_count": null,
   "metadata": {},
   "outputs": [],
   "source": [
    "url = \"https://theunitedstates.io/congress-legislators/legislators-historical.csv\"\n",
    "\n",
    "schema_overrides = {\n",
    "    \"first_name\": pl.Categorical,\n",
    "    \"gender\": pl.Categorical,\n",
    "    \"type\": pl.Categorical,\n",
    "    \"state\": pl.Categorical,\n",
    "    \"party\": pl.Categorical,\n",
    "}\n",
    "\n",
    "dataset = pl.read_csv(url, schema_overrides=schema_overrides).with_columns(\n",
    "    pl.col(\"birthday\").str.to_date(strict=False)\n",
    ")\n",
    "print(dataset.columns)\n",
    "print(dataset.head())"
   ]
  },
  {
   "cell_type": "code",
   "execution_count": null,
   "metadata": {},
   "outputs": [],
   "source": [
    "# basic aggregations\n",
    "q = (\n",
    "    dataset.lazy()\n",
    "    .group_by(\"first_name\")\n",
    "    .agg(\n",
    "        pl.len(),\n",
    "        pl.col(\"gender\"),\n",
    "        pl.first(\"last_name\"),  # Short for `pl.col(\"last_name\").first()`\n",
    "    )\n",
    "    .sort(\"len\", descending=True)\n",
    "    .limit(5)\n",
    ")\n",
    "\n",
    "df = q.collect()\n",
    "print(df)"
   ]
  },
  {
   "cell_type": "code",
   "execution_count": null,
   "metadata": {},
   "outputs": [],
   "source": [
    "# conditionals\n",
    "q = (\n",
    "    dataset.lazy()\n",
    "    .group_by(\"state\")\n",
    "    .agg(\n",
    "        (pl.col(\"party\") == \"Anti-Administration\").sum().alias(\"anti\"),\n",
    "        (pl.col(\"party\") == \"Pro-Administration\").sum().alias(\"pro\"),\n",
    "    )\n",
    "    .sort(\"pro\", descending=True)\n",
    "    .limit(5)\n",
    ")\n",
    "\n",
    "df = q.collect()\n",
    "print(df)"
   ]
  },
  {
   "cell_type": "code",
   "execution_count": null,
   "metadata": {},
   "outputs": [],
   "source": [
    "# filtering\n",
    "def compute_age():\n",
    "    return date.today().year - pl.col(\"birthday\").dt.year()\n",
    "\n",
    "\n",
    "def avg_birthday(gender: str) -> pl.Expr:\n",
    "    return (\n",
    "        compute_age()\n",
    "        .filter(pl.col(\"gender\") == gender)\n",
    "        .mean()\n",
    "        .alias(f\"avg {gender} birthday\")\n",
    "    )\n",
    "\n",
    "\n",
    "q = (\n",
    "    dataset.lazy()\n",
    "    .group_by(\"state\")\n",
    "    .agg(\n",
    "        avg_birthday(\"M\"),\n",
    "        avg_birthday(\"F\"),\n",
    "        (pl.col(\"gender\") == \"M\").sum().alias(\"# male\"),\n",
    "        (pl.col(\"gender\") == \"F\").sum().alias(\"# female\"),\n",
    "    )\n",
    "    .limit(5)\n",
    ")\n",
    "\n",
    "df = q.collect()\n",
    "print(df)"
   ]
  },
  {
   "cell_type": "code",
   "execution_count": null,
   "metadata": {},
   "outputs": [],
   "source": [
    "# nested grouping\n",
    "q = (\n",
    "    dataset.lazy()\n",
    "    .group_by(\"state\", \"party\")\n",
    "    .agg(pl.len().alias(\"count\"))\n",
    "    .filter(\n",
    "        (pl.col(\"party\") == \"Anti-Administration\")\n",
    "        | (pl.col(\"party\") == \"Pro-Administration\")\n",
    "    )\n",
    "    .sort(\"count\", descending=True)\n",
    "    .limit(5)\n",
    ")\n",
    "\n",
    "df = q.collect()\n",
    "print(df)"
   ]
  },
  {
   "cell_type": "code",
   "execution_count": null,
   "metadata": {},
   "outputs": [],
   "source": [
    "# sorting\n",
    "def get_name() -> pl.Expr:\n",
    "    return pl.col(\"first_name\") + pl.lit(\" \") + pl.col(\"last_name\")\n",
    "\n",
    "q = (\n",
    "    dataset.lazy()\n",
    "    .sort(\"birthday\", descending=True)\n",
    "    .group_by(\"state\")\n",
    "    .agg(\n",
    "        get_name().first().alias(\"youngest\"),\n",
    "        get_name().last().alias(\"oldest\"),\n",
    "        get_name().sort().first().alias(\"alphabetical_first\"),\n",
    "    )\n",
    "    .limit(5)\n",
    ")\n",
    "\n",
    "df = q.collect()\n",
    "print(df)"
   ]
  },
  {
   "cell_type": "code",
   "execution_count": null,
   "metadata": {},
   "outputs": [],
   "source": [
    "# sorting\n",
    "q = (\n",
    "    dataset.lazy()\n",
    "    .sort(\"birthday\", descending=True)\n",
    "    .group_by(\"state\")\n",
    "    .agg(\n",
    "        get_name().first().alias(\"youngest\"),\n",
    "        get_name().last().alias(\"oldest\"),\n",
    "        get_name().sort().first().alias(\"alphabetical_first\"),\n",
    "        pl.col(\"gender\").sort_by(get_name()).first(),\n",
    "    )\n",
    "    .sort(\"state\")\n",
    "    .limit(5)\n",
    ")\n",
    "\n",
    "df = q.collect()\n",
    "print(df)"
   ]
  },
  {
   "cell_type": "code",
   "execution_count": null,
   "metadata": {},
   "outputs": [],
   "source": []
  }
 ],
 "metadata": {
  "kernelspec": {
   "display_name": "data_eng",
   "language": "python",
   "name": "python3"
  },
  "language_info": {
   "codemirror_mode": {
    "name": "ipython",
    "version": 3
   },
   "file_extension": ".py",
   "mimetype": "text/x-python",
   "name": "python",
   "nbconvert_exporter": "python",
   "pygments_lexer": "ipython3",
   "version": "3.12.2"
  }
 },
 "nbformat": 4,
 "nbformat_minor": 2
}
