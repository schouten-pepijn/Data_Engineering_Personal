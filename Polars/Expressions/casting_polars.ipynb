{
 "cells": [
  {
   "cell_type": "code",
   "execution_count": null,
   "metadata": {},
   "outputs": [],
   "source": [
    "import polars as pl\n",
    "from datetime import date"
   ]
  },
  {
   "cell_type": "code",
   "execution_count": null,
   "metadata": {},
   "outputs": [],
   "source": [
    "df = pl.DataFrame(\n",
    "    {\n",
    "        \"integers\": [1, 2, 3],\n",
    "        \"big_integers\": [10000002, 2, 30000003],\n",
    "        \"floats\": [4.0, 5.8, -6.3],\n",
    "    }\n",
    ")\n",
    "print(df)"
   ]
  },
  {
   "cell_type": "code",
   "execution_count": null,
   "metadata": {},
   "outputs": [],
   "source": [
    "# basic casting\n",
    "result = df.select(\n",
    "    pl.col(\"integers\").cast(pl.Float32).alias(\"integers_as_floats\"),\n",
    "    pl.col(\"floats\").cast(pl.Int32).alias(\"floats_as_integers\"),\n",
    ")\n",
    "print(result)"
   ]
  },
  {
   "cell_type": "code",
   "execution_count": null,
   "metadata": {},
   "outputs": [],
   "source": [
    "# overflowing and underflowing to null\n",
    "result = df.select(\n",
    "    pl.col(\"big_integers\").cast(pl.Int8, strict=False)\n",
    ")\n",
    "print(result)"
   ]
  },
  {
   "cell_type": "code",
   "execution_count": null,
   "metadata": {},
   "outputs": [],
   "source": [
    "# strings to numbers and number to strings\n",
    "df = pl.DataFrame(\n",
    "    {\n",
    "        \"integers_as_strings\": [\"1\", \"2\", \"3\"],\n",
    "        \"floats_as_strings\": [\"4.0\", \"5.8\", \"-6.3\"],\n",
    "        \"floats\": [4.0, 5.8, -6.3],\n",
    "    }\n",
    ")\n",
    "\n",
    "result = df.select(\n",
    "    pl.col(\"integers_as_strings\").cast(pl.Int32),\n",
    "    pl.col(\"floats_as_strings\").cast(pl.Float64),\n",
    "    pl.col(\"floats\").cast(pl.String),\n",
    ")\n",
    "print(result)"
   ]
  },
  {
   "cell_type": "code",
   "execution_count": null,
   "metadata": {},
   "outputs": [],
   "source": [
    "# string to datetime and datetime to string\n",
    "df = pl.DataFrame(\n",
    "    {\n",
    "        \"date\": [date(2022, 1, 1), date(2022, 1, 2)],\n",
    "        \"string\": [\"2022-01-01\", \"2022-01-02\"],\n",
    "    }\n",
    ")\n",
    "\n",
    "result = df.select(\n",
    "    pl.col(\"date\").dt.to_string(\"%Y-%m-%d\"),\n",
    "    pl.col(\"string\").str.to_datetime(\"%Y-%m-%d\"),\n",
    ")\n",
    "print(result)"
   ]
  },
  {
   "cell_type": "code",
   "execution_count": null,
   "metadata": {},
   "outputs": [],
   "source": []
  }
 ],
 "metadata": {
  "kernelspec": {
   "display_name": "data_eng",
   "language": "python",
   "name": "python3"
  },
  "language_info": {
   "codemirror_mode": {
    "name": "ipython",
    "version": 3
   },
   "file_extension": ".py",
   "mimetype": "text/x-python",
   "name": "python",
   "nbconvert_exporter": "python",
   "pygments_lexer": "ipython3",
   "version": "3.12.2"
  }
 },
 "nbformat": 4,
 "nbformat_minor": 2
}
