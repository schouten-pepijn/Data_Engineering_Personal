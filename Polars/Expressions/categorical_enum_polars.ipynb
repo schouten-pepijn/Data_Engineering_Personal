{
 "cells": [
  {
   "cell_type": "code",
   "execution_count": null,
   "metadata": {},
   "outputs": [],
   "source": [
    "import polars as pl\n",
    "from polars.exceptions import StringCacheMismatchError"
   ]
  },
  {
   "cell_type": "markdown",
   "metadata": {},
   "source": [
    "Enum\n",
    "- ordered categorical data type (strings known in advance)"
   ]
  },
  {
   "cell_type": "code",
   "execution_count": null,
   "metadata": {},
   "outputs": [],
   "source": [
    "# enums\n",
    "bears_enum = pl.Enum(\n",
    "    [\"Polar\", \"Panda\", \"Brown\"]\n",
    ")\n",
    "bears = pl.Series(\n",
    "    [\"Polar\", \"Panda\", \"Brown\", \"Brown\", \"Polar\"],\n",
    "    dtype=bears_enum\n",
    ")\n",
    "print(bears)"
   ]
  },
  {
   "cell_type": "code",
   "execution_count": null,
   "metadata": {},
   "outputs": [],
   "source": [
    "# conditional on the ordering of enum\n",
    "log_levels = pl.Enum([\"debug\", \"info\", \"warning\", \"error\"])\n",
    "\n",
    "logs = pl.DataFrame(\n",
    "    {\n",
    "        \"level\": [\"debug\", \"info\", \"debug\", \"error\"],\n",
    "        \"message\": [\n",
    "            \"process id: 525\",\n",
    "            \"Service started correctly\",\n",
    "            \"startup time: 67ms\",\n",
    "            \"Cannot connect to DB!\",\n",
    "        ],\n",
    "    },\n",
    "    schema_overrides={\n",
    "        \"level\": log_levels,\n",
    "    },\n",
    ")\n",
    "\n",
    "non_debug_logs = logs.filter(\n",
    "    pl.col(\"level\") > \"debug\",\n",
    ")\n",
    "print(non_debug_logs)"
   ]
  },
  {
   "cell_type": "markdown",
   "metadata": {},
   "source": [
    "Categorical"
   ]
  },
  {
   "cell_type": "code",
   "execution_count": null,
   "metadata": {},
   "outputs": [],
   "source": [
    "# creating categorical data\n",
    "bears_cat = pl.Series(\n",
    "    [\"Polar\", \"Panda\", \"Brown\", \"Brown\", \"Polar\"],\n",
    "    dtype=pl.Categorical\n",
    ")\n",
    "print(bears_cat)"
   ]
  },
  {
   "cell_type": "code",
   "execution_count": null,
   "metadata": {},
   "outputs": [],
   "source": [
    "# lexical comparison\n",
    "print(bears_cat < \"Cat\")\n",
    "\n",
    "bears_str = pl.Series(\n",
    "    [\"Panda\", \"Brown\", \"Brown\", \"Polar\", \"Polar\"],\n",
    ")\n",
    "print(bears_cat == bears_str)"
   ]
  },
  {
   "cell_type": "code",
   "execution_count": null,
   "metadata": {},
   "outputs": [],
   "source": [
    "# comparing two categorical columns (fail)\n",
    "bears_cat2 = pl.Series(\n",
    "    [\"Panda\", \"Brown\", \"Brown\", \"Polar\", \"Polar\"],\n",
    "    dtype=pl.Categorical,\n",
    ")\n",
    "\n",
    "try:\n",
    "    print(bears_cat == bears_cat2)\n",
    "except StringCacheMismatchError as exc:\n",
    "    exc_str = str(exc).splitlines()[0]\n",
    "    print(\"StringCacheMismatchError:\", exc_str)\n",
    "    \n",
    "    \n",
    "# comparing two categorical columns (pass)\n",
    "with pl.StringCache():\n",
    "    bears_cat = pl.Series(\n",
    "        [\"Polar\", \"Panda\", \"Brown\", \"Brown\", \"Polar\"], dtype=pl.Categorical\n",
    "    )\n",
    "    bears_cat2 = pl.Series(\n",
    "        [\"Panda\", \"Brown\", \"Brown\", \"Polar\", \"Polar\"], dtype=pl.Categorical\n",
    "    )\n",
    "\n",
    "print(bears_cat == bears_cat2)"
   ]
  }
 ],
 "metadata": {
  "kernelspec": {
   "display_name": "data_eng",
   "language": "python",
   "name": "python3"
  },
  "language_info": {
   "codemirror_mode": {
    "name": "ipython",
    "version": 3
   },
   "file_extension": ".py",
   "mimetype": "text/x-python",
   "name": "python",
   "nbconvert_exporter": "python",
   "pygments_lexer": "ipython3",
   "version": "3.12.2"
  }
 },
 "nbformat": 4,
 "nbformat_minor": 2
}
