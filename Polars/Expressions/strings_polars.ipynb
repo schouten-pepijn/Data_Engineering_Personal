{
 "cells": [
  {
   "cell_type": "code",
   "execution_count": null,
   "metadata": {},
   "outputs": [],
   "source": [
    "import polars as pl"
   ]
  },
  {
   "cell_type": "code",
   "execution_count": null,
   "metadata": {},
   "outputs": [],
   "source": [
    "df = pl.DataFrame(\n",
    "    {\n",
    "        \"language\": [\"English\", \"Dutch\", \"Portuguese\", \"Finish\"],\n",
    "        \"fruit\": [\"pear\", \"peer\", \"pêra\", \"päärynä\"],\n",
    "    }\n",
    ")\n",
    "print(df)"
   ]
  },
  {
   "cell_type": "code",
   "execution_count": null,
   "metadata": {},
   "outputs": [],
   "source": [
    "# parsing strings\n",
    "result = df.select(\n",
    "    pl.col(\"fruit\"),\n",
    "    pl.col(\"fruit\").str.starts_with(\"p\").alias(\"starts_with_p\"),\n",
    "    pl.col(\"fruit\").str.contains(\"p..r\").alias(\"p..r\"),\n",
    "    pl.col(\"fruit\").str.contains(\"e+\").alias(\"e+\"),\n",
    "    pl.col(\"fruit\").str.ends_with(\"r\").alias(\"ends_with_r\"),\n",
    ")\n",
    "print(result)"
   ]
  },
  {
   "cell_type": "code",
   "execution_count": null,
   "metadata": {},
   "outputs": [],
   "source": [
    "# extracting a pattern\n",
    "df = pl.DataFrame(\n",
    "    {\n",
    "        \"urls\": [\n",
    "            \"http://vote.com/ballon_dor?candidate=messi&ref=polars\",\n",
    "            \"http://vote.com/ballon_dor?candidat=jorginho&ref=polars\",\n",
    "            \"http://vote.com/ballon_dor?candidate=ronaldo&ref=polars\",\n",
    "        ]\n",
    "    }\n",
    ")\n",
    "result = df.select(\n",
    "    pl.col(\"urls\").str.extract(r\"candidate=(\\w+)\", group_index=1),\n",
    ")\n",
    "print(result)"
   ]
  },
  {
   "cell_type": "code",
   "execution_count": null,
   "metadata": {},
   "outputs": [],
   "source": [
    "# replace a pattern\n",
    "df = pl.DataFrame({\"text\": [\"123abc\", \"abc456\"]})\n",
    "result = df.with_columns(\n",
    "    pl.col(\"text\").str.replace(r\"\\d\", \"-\"),\n",
    "    pl.col(\"text\").str.replace_all(r\"\\d\", \"-\").alias(\"text_replace_all\"),\n",
    ")\n",
    "print(result)"
   ]
  },
  {
   "cell_type": "code",
   "execution_count": null,
   "metadata": {},
   "outputs": [],
   "source": [
    "# case conversion\n",
    "addresses = pl.DataFrame(\n",
    "    {\n",
    "        \"addresses\": [\n",
    "            \"128 PERF st\",\n",
    "            \"Rust blVD, 158\",\n",
    "            \"PoLaRs Av, 12\",\n",
    "            \"1042 Query sq\",\n",
    "        ]\n",
    "    }\n",
    ")\n",
    "\n",
    "addresses = addresses.select(\n",
    "    pl.col(\"addresses\").alias(\"originals\"),\n",
    "    pl.col(\"addresses\").str.to_titlecase(),\n",
    "    pl.col(\"addresses\").str.to_lowercase().alias(\"lower\"),\n",
    "    pl.col(\"addresses\").str.to_uppercase().alias(\"upper\"),\n",
    ")\n",
    "print(addresses)"
   ]
  },
  {
   "cell_type": "code",
   "execution_count": null,
   "metadata": {},
   "outputs": [],
   "source": [
    "# stripping strings\n",
    "addr = pl.col(\"addresses\")\n",
    "chars = \", 0123456789\"\n",
    "result = addresses.select(\n",
    "    addr.str.strip_chars(chars).alias(\"strip\"),\n",
    "    addr.str.strip_chars_end(chars).alias(\"end\"),\n",
    "    addr.str.strip_chars_start(chars).alias(\"start\"),\n",
    "    addr.str.strip_prefix(\"128 \").alias(\"prefix\"),\n",
    "    addr.str.strip_suffix(\", 158\").alias(\"suffix\"),\n",
    ")\n",
    "print(result)"
   ]
  },
  {
   "cell_type": "code",
   "execution_count": null,
   "metadata": {},
   "outputs": [],
   "source": [
    "# slicing strings\n",
    "df = pl.DataFrame(\n",
    "    {\n",
    "        \"fruits\": [\"pear\", \"mango\", \"dragonfruit\", \"passionfruit\"],\n",
    "        \"n\": [1, -1, 4, -4],\n",
    "    }\n",
    ")\n",
    "\n",
    "result = df.with_columns(\n",
    "    pl.col(\"fruits\").str.slice(pl.col(\"n\")).alias(\"slice\"),\n",
    "    pl.col(\"fruits\").str.head(pl.col(\"n\")).alias(\"head\"),\n",
    "    pl.col(\"fruits\").str.tail(pl.col(\"n\")).alias(\"tail\"),\n",
    ")\n",
    "print(result)"
   ]
  },
  {
   "cell_type": "code",
   "execution_count": null,
   "metadata": {},
   "outputs": [],
   "source": []
  }
 ],
 "metadata": {
  "kernelspec": {
   "display_name": "data_eng",
   "language": "python",
   "name": "python3"
  },
  "language_info": {
   "codemirror_mode": {
    "name": "ipython",
    "version": 3
   },
   "file_extension": ".py",
   "mimetype": "text/x-python",
   "name": "python",
   "nbconvert_exporter": "python",
   "pygments_lexer": "ipython3",
   "version": "3.12.2"
  }
 },
 "nbformat": 4,
 "nbformat_minor": 2
}
