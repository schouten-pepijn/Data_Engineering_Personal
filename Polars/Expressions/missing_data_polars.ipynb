{
 "cells": [
  {
   "cell_type": "code",
   "execution_count": null,
   "metadata": {},
   "outputs": [],
   "source": [
    "import polars as pl"
   ]
  },
  {
   "cell_type": "markdown",
   "metadata": {},
   "source": [
    "Missing data is a null value"
   ]
  },
  {
   "cell_type": "code",
   "execution_count": null,
   "metadata": {},
   "outputs": [],
   "source": [
    "df = pl.DataFrame(\n",
    "    {\n",
    "        \"value\": [1, None],\n",
    "    },\n",
    ")\n",
    "print(df)"
   ]
  },
  {
   "cell_type": "code",
   "execution_count": null,
   "metadata": {},
   "outputs": [],
   "source": [
    "# count nulls\n",
    "null_count_df = df.null_count()\n",
    "print(null_count_df)"
   ]
  },
  {
   "cell_type": "code",
   "execution_count": null,
   "metadata": {},
   "outputs": [],
   "source": [
    "# show null values\n",
    "is_null_series = df.select(\n",
    "    pl.col(\"value\").is_null(),\n",
    ")\n",
    "print(is_null_series)"
   ]
  },
  {
   "cell_type": "markdown",
   "metadata": {},
   "source": [
    "Filling missing values"
   ]
  },
  {
   "cell_type": "code",
   "execution_count": null,
   "metadata": {},
   "outputs": [],
   "source": [
    "df = pl.DataFrame(\n",
    "    {\n",
    "        \"col1\": [0.5, 1, 1.5, 2, 2.5],\n",
    "        \"col2\": [1, None, 3, None, 5],\n",
    "    },\n",
    ")\n",
    "print(df)"
   ]
  },
  {
   "cell_type": "code",
   "execution_count": null,
   "metadata": {},
   "outputs": [],
   "source": [
    "# filling with a specific value\n",
    "fill_literal_df = df.with_columns(\n",
    "    pl.col(\"col2\").fill_null(3),\n",
    ")\n",
    "print(fill_literal_df)"
   ]
  },
  {
   "cell_type": "code",
   "execution_count": null,
   "metadata": {},
   "outputs": [],
   "source": [
    "# fill with an expression\n",
    "median_expr = (pl.col(\"col2\")\n",
    "               .fill_null((2 * pl.col(\"col1\"))\n",
    "                          .cast(pl.Int64))\n",
    ")\n",
    "               \n",
    "               \n",
    "fill_median_df = df.with_columns(\n",
    "    median_expr\n",
    ")\n",
    "\n",
    "print(fill_median_df)"
   ]
  },
  {
   "cell_type": "code",
   "execution_count": null,
   "metadata": {},
   "outputs": [],
   "source": [
    "# forward and backward filling\n",
    "fill_df = df.with_columns(\n",
    "    pl.col(\"col2\").fill_null(strategy=\"forward\").alias(\"forward\"),\n",
    "    pl.col(\"col2\").fill_null(strategy=\"backward\").alias(\"backward\"),\n",
    ")\n",
    "print(fill_df)\n"
   ]
  },
  {
   "cell_type": "code",
   "execution_count": null,
   "metadata": {},
   "outputs": [],
   "source": [
    "# fill with interpolation\n",
    "interpol_df = df.with_columns(\n",
    "    pl.col(\"col2\").interpolate(),\n",
    ")\n",
    "print(interpol_df)"
   ]
  }
 ],
 "metadata": {
  "kernelspec": {
   "display_name": "data_eng",
   "language": "python",
   "name": "python3"
  },
  "language_info": {
   "codemirror_mode": {
    "name": "ipython",
    "version": 3
   },
   "file_extension": ".py",
   "mimetype": "text/x-python",
   "name": "python",
   "nbconvert_exporter": "python",
   "pygments_lexer": "ipython3",
   "version": "3.12.2"
  }
 },
 "nbformat": 4,
 "nbformat_minor": 2
}
