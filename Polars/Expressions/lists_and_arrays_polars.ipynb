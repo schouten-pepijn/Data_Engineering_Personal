{
 "cells": [
  {
   "cell_type": "code",
   "execution_count": null,
   "metadata": {},
   "outputs": [],
   "source": [
    "import polars as pl\n",
    "from datetime import datetime"
   ]
  },
  {
   "cell_type": "code",
   "execution_count": null,
   "metadata": {},
   "outputs": [],
   "source": [
    "# Lists can be used for homogeneous data\n",
    "df = pl.DataFrame(\n",
    "    {\n",
    "        \"names\": [\n",
    "            [\"Anne\", \"Averill\", \"Adams\"],\n",
    "            [\"Brandon\", \"Brooke\", \"Borden\", \"Branson\"],\n",
    "            [\"Camila\", \"Campbell\"],\n",
    "            [\"Dennis\", \"Doyle\"],\n",
    "        ],\n",
    "        \"children_ages\": [\n",
    "            [5, 7],\n",
    "            [],\n",
    "            [],\n",
    "            [8, 11, 18],\n",
    "        ],\n",
    "        \"medical_appointments\": [\n",
    "            [],\n",
    "            [],\n",
    "            [],\n",
    "            [datetime(2022, 5, 22, 16, 30)],\n",
    "        ],\n",
    "    }\n",
    ")\n",
    "\n",
    "print(df)"
   ]
  },
  {
   "cell_type": "code",
   "execution_count": null,
   "metadata": {},
   "outputs": [],
   "source": [
    "# Arrays can be used for hetrogeneous data\n",
    "df = pl.DataFrame(\n",
    "    {\n",
    "        \"bit_flags\": [\n",
    "            [True, True, True, True, False],\n",
    "            [False, True, True, True, True],\n",
    "        ],\n",
    "        \"tic_tac_toe\": [\n",
    "            [\n",
    "                [\" \", \"x\", \"o\"],\n",
    "                [\" \", \"x\", \" \"],\n",
    "                [\"o\", \"x\", \" \"],\n",
    "            ],\n",
    "            [\n",
    "                [\"o\", \"x\", \"x\"],\n",
    "                [\" \", \"o\", \"x\"],\n",
    "                [\" \", \" \", \"o\"],\n",
    "            ],\n",
    "        ],\n",
    "    },\n",
    "    schema={\n",
    "        \"bit_flags\": pl.Array(pl.Boolean, 5),\n",
    "        \"tic_tac_toe\": pl.Array(pl.String, (3, 3)),\n",
    "    },\n",
    ")\n",
    "\n",
    "print(df)"
   ]
  },
  {
   "cell_type": "markdown",
   "metadata": {},
   "source": [
    "When to use each\n",
    "\n",
    "In short, prefer the data type Array over List because it is more memory efficient and more performant. If you cannot use Array, then use List:\n",
    "\n",
    "when the values within a column do not have a fixed shape; or\n",
    "when you need functions that are only available in the list API."
   ]
  },
  {
   "cell_type": "code",
   "execution_count": null,
   "metadata": {},
   "outputs": [],
   "source": [
    "# list operations\n",
    "weather = pl.DataFrame(\n",
    "    {\n",
    "        \"station\": [f\"Station {idx}\" for idx in range(1, 6)],\n",
    "        \"temperatures\": [\n",
    "            \"20 5 5 E1 7 13 19 9 6 20\",\n",
    "            \"18 8 16 11 23 E2 8 E2 E2 E2 90 70 40\",\n",
    "            \"19 24 E9 16 6 12 10 22\",\n",
    "            \"E2 E0 15 7 8 10 E1 24 17 13 6\",\n",
    "            \"14 8 E0 16 22 24 E1\",\n",
    "        ],\n",
    "    }\n",
    ")\n",
    "\n",
    "print(weather)\n",
    "\n",
    "# split on whitespace\n",
    "weather = weather.with_columns(\n",
    "    pl.col(\"temperatures\").str.split(\" \"),\n",
    ")\n",
    "print(weather)\n",
    "\n",
    "# explode on the list items\n",
    "result = weather.explode(\"temperatures\")\n",
    "print(result)"
   ]
  },
  {
   "cell_type": "code",
   "execution_count": null,
   "metadata": {},
   "outputs": [],
   "source": [
    "# list operations\n",
    "result = weather.with_columns(\n",
    "    pl.col(\"temperatures\").list.head(3).alias(\"head\"),\n",
    "    pl.col(\"temperatures\").list.tail(3).alias(\"tail\"),\n",
    "    pl.col(\"temperatures\").list.slice(-3, 2).alias(\"two_next_to_last\"),\n",
    ")\n",
    "print(result)"
   ]
  },
  {
   "cell_type": "code",
   "execution_count": null,
   "metadata": {},
   "outputs": [],
   "source": [
    "# elementwise computatins (.list.eval(pl.elements()))\n",
    "result = weather.with_columns(\n",
    "    pl.col(\"temperatures\")\n",
    "    .list.eval(pl.element().cast(pl.Int64, strict=False).is_null())\n",
    "    .list.sum()\n",
    "    .alias(\"errors\"),\n",
    ")\n",
    "print(result)"
   ]
  },
  {
   "cell_type": "code",
   "execution_count": null,
   "metadata": {},
   "outputs": [],
   "source": [
    "# rowwise computations (.list.eval(pl.all()))\n",
    "\n",
    "weather_by_day = pl.DataFrame(\n",
    "    {\n",
    "        \"station\": [f\"Station {idx}\" for idx in range(1, 11)],\n",
    "        \"day_1\": [17, 11, 8, 22, 9, 21, 20, 8, 8, 17],\n",
    "        \"day_2\": [15, 11, 10, 8, 7, 14, 18, 21, 15, 13],\n",
    "        \"day_3\": [16, 15, 24, 24, 8, 23, 19, 23, 16, 10],\n",
    "    }\n",
    ")\n",
    "print(weather_by_day)\n",
    "\n",
    "rank_pct = (pl.element().rank(descending=True) / pl.all().count()).round(2)\n",
    "\n",
    "result = weather_by_day.with_columns(\n",
    "    # create the list of homogeneous data\n",
    "    pl.concat_list(pl.all().exclude(\"station\")).alias(\"all_temps\")\n",
    ").select(\n",
    "    # select all columns except the intermediate list\n",
    "    pl.all().exclude(\"all_temps\"),\n",
    "    # compute the rank by calling `list.eval`\n",
    "    pl.col(\"all_temps\").list.eval(rank_pct, parallel=True).alias(\"temps_rank\"),\n",
    ")\n",
    "\n",
    "print(result)"
   ]
  }
 ],
 "metadata": {
  "kernelspec": {
   "display_name": "data_eng",
   "language": "python",
   "name": "python3"
  },
  "language_info": {
   "codemirror_mode": {
    "name": "ipython",
    "version": 3
   },
   "file_extension": ".py",
   "mimetype": "text/x-python",
   "name": "python",
   "nbconvert_exporter": "python",
   "pygments_lexer": "ipython3",
   "version": "3.12.2"
  }
 },
 "nbformat": 4,
 "nbformat_minor": 2
}
