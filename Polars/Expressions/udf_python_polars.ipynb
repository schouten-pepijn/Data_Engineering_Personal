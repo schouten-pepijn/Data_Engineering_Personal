{
 "cells": [
  {
   "cell_type": "code",
   "execution_count": null,
   "metadata": {},
   "outputs": [],
   "source": [
    "import polars as pl\n",
    "import math\n",
    "import numpy as np\n",
    "from numba import float64, guvectorize, int64\n"
   ]
  },
  {
   "cell_type": "code",
   "execution_count": null,
   "metadata": {},
   "outputs": [],
   "source": [
    "df = pl.DataFrame(\n",
    "    {\n",
    "        \"keys\": [\"a\", \"a\", \"b\", \"b\"],\n",
    "        \"values\": [10, 7, 1, 23],\n",
    "    }\n",
    ")\n",
    "print(df)"
   ]
  },
  {
   "cell_type": "code",
   "execution_count": null,
   "metadata": {},
   "outputs": [],
   "source": [
    "# log() function on each individual value\n",
    "\n",
    "def my_log(x):\n",
    "    return math.log(x)\n",
    "\n",
    "result = df.select(\n",
    "    pl.col(\"values\")\n",
    "    .map_elements(lambda x: my_log(x),\n",
    "                  return_dtype=pl.Float64)\n",
    ")\n",
    "print(result)"
   ]
  },
  {
   "cell_type": "code",
   "execution_count": null,
   "metadata": {},
   "outputs": [],
   "source": [
    "# processing a whole series with mat_batches()\n",
    "def diff_from_mean(series):\n",
    "    total = 0\n",
    "    for value in series:\n",
    "        total += value\n",
    "    mean = total / len(series)\n",
    "    return pl.Series([value - mean for value in series])\n",
    "\n",
    "result = df.select(\n",
    "    pl.col(\"values\")\n",
    "    .map_batches(diff_from_mean,\n",
    "                 return_dtype=pl.Float64)\n",
    ")\n",
    "print(result)\n",
    "\n",
    "result = (df\n",
    "          .group_by(\"keys\")\n",
    "          .agg(pl.col(\"values\")\n",
    "               .map_batches(diff_from_mean)\n",
    "               )\n",
    ")\n",
    "print(result)\n"
   ]
  },
  {
   "cell_type": "markdown",
   "metadata": {},
   "source": [
    "Fast UDFS"
   ]
  },
  {
   "cell_type": "code",
   "execution_count": null,
   "metadata": {},
   "outputs": [],
   "source": [
    "# using numpys ufuncs\n",
    "result = df.select(\n",
    "    pl.col(\"values\")\n",
    "    .map_batches(np.log)\n",
    ")\n",
    "print(result)"
   ]
  },
  {
   "cell_type": "code",
   "execution_count": null,
   "metadata": {},
   "outputs": [],
   "source": [
    "# using numba\n",
    "\n",
    "@guvectorize([(int64[:], float64[:])], '(n)->(n)')\n",
    "def diff_from_mean_numba(arr, result):\n",
    "    total = 0\n",
    "    for value in arr:\n",
    "        total += value\n",
    "    mean = total / len(arr)\n",
    "    for i, value in enumerate(arr):\n",
    "        result[i] = value - mean\n",
    "\n",
    "result = df.select(\n",
    "    pl.col(\"values\")\n",
    "    .map_batches(diff_from_mean_numba)\n",
    ")\n",
    "print(result)\n",
    "\n",
    "result = (df\n",
    "          .group_by(\"keys\")\n",
    "           .agg(pl.col(\"values\")\n",
    "                .map_batches(diff_from_mean_numba)\n",
    "            )\n",
    ")\n",
    "print(result)"
   ]
  },
  {
   "cell_type": "code",
   "execution_count": null,
   "metadata": {},
   "outputs": [],
   "source": [
    "# passing multiple column values with structs\n",
    "# Add two arrays together:\n",
    "@guvectorize([(int64[:], int64[:], float64[:])], \"(n),(n)->(n)\")\n",
    "def add(arr, arr2, result):\n",
    "    for i in range(len(arr)):\n",
    "        result[i] = arr[i] + arr2[i]\n",
    "\n",
    "\n",
    "df3 = pl.DataFrame({\"values1\": [1, 2, 3], \"values2\": [10, 20, 30]})\n",
    "\n",
    "out = df3.select(\n",
    "    # Create a struct that has two columns in it:\n",
    "    pl.struct([\"values1\", \"values2\"])\n",
    "    # Pass the struct to a lambda that then passes the individual columns to\n",
    "    # the add() function:\n",
    "    .map_batches(\n",
    "        lambda combined: add(\n",
    "            combined.struct.field(\"values1\"), combined.struct.field(\"values2\")\n",
    "        )\n",
    "    )\n",
    "    .alias(\"add_columns\")\n",
    ")\n",
    "print(out)"
   ]
  },
  {
   "cell_type": "markdown",
   "metadata": {},
   "source": [
    "Using numpy functions"
   ]
  },
  {
   "cell_type": "code",
   "execution_count": null,
   "metadata": {},
   "outputs": [],
   "source": [
    "df = pl.DataFrame({\"a\": [1, 2, 3], \"b\": [4, 5, 6]})\n",
    "\n",
    "result = df.select(\n",
    "    np.log(pl.all()).name.suffix(\"_log\")\n",
    ")\n",
    "print(result)"
   ]
  }
 ],
 "metadata": {
  "kernelspec": {
   "display_name": "data_eng",
   "language": "python",
   "name": "python3"
  },
  "language_info": {
   "codemirror_mode": {
    "name": "ipython",
    "version": 3
   },
   "file_extension": ".py",
   "mimetype": "text/x-python",
   "name": "python",
   "nbconvert_exporter": "python",
   "pygments_lexer": "ipython3",
   "version": "3.12.2"
  }
 },
 "nbformat": 4,
 "nbformat_minor": 2
}
