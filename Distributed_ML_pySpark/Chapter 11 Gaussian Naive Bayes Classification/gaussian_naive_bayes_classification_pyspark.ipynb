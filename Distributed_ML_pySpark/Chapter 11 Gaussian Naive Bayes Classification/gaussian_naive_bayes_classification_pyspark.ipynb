{
 "cells": [
  {
   "cell_type": "code",
   "execution_count": 3,
   "metadata": {},
   "outputs": [
    {
     "name": "stderr",
     "output_type": "stream",
     "text": [
      "Setting default log level to \"WARN\".\n",
      "To adjust logging level use sc.setLogLevel(newLevel). For SparkR, use setLogLevel(newLevel).\n",
      "24/11/15 22:51:59 WARN NativeCodeLoader: Unable to load native-hadoop library for your platform... using builtin-java classes where applicable\n"
     ]
    }
   ],
   "source": [
    "from pyspark.sql import SparkSession\n",
    "from pyspark.ml.classification import NaiveBayes\n",
    "from pyspark.ml.linalg import Vectors\n",
    "from sklearn.datasets import make_classification\n",
    "from pyspark.ml.evaluation import MulticlassClassificationEvaluator\n",
    "import numpy as np\n",
    "\n",
    "spark = (SparkSession.builder\n",
    "         .appName(\"Gaussian Naive Bayes\")\n",
    "         .getOrCreate())"
   ]
  },
  {
   "cell_type": "code",
   "execution_count": 7,
   "metadata": {},
   "outputs": [
    {
     "name": "stdout",
     "output_type": "stream",
     "text": [
      "==================================================\n",
      "Accuracy: 0.4205607476635514\n",
      "Precision: 0.4416810276020201\n",
      "Recall: 0.42056074766355134\n",
      "F1: 0.4096317064313373\n",
      "==================================================\n"
     ]
    }
   ],
   "source": [
    "# load data\n",
    "X, y = make_classification(\n",
    "    n_samples=1000,\n",
    "    n_features=3,\n",
    "    n_informative=3,\n",
    "    n_redundant=0,\n",
    "    n_clusters_per_class=1,\n",
    "    n_classes=3,\n",
    "    weights=[0.3, 0.3, 0.4],\n",
    "    flip_y=0.1,\n",
    "    random_state=87\n",
    ")\n",
    "X = np.abs(X)\n",
    "\n",
    "data = [(Vectors.dense(x.tolist()), float(label)) for x, label in zip(X, y)]\n",
    "spark_df = spark.createDataFrame(data, [\"features\", \"label\"])\n",
    "\n",
    "# split data\n",
    "train, test = spark_df.randomSplit([0.8, 0.2], seed=87)\n",
    "\n",
    "# train model\n",
    "nb = NaiveBayes(\n",
    "    featuresCol='features',\n",
    "    labelCol='label',\n",
    "    modelType='gaussian'\n",
    ")\n",
    "nb_model = nb.fit(train)\n",
    "\n",
    "# predict\n",
    "predictions = nb_model.transform(test)\n",
    "\n",
    "# evaluate\n",
    "evaluator = MulticlassClassificationEvaluator(\n",
    "    predictionCol='prediction',\n",
    "    labelCol='label',\n",
    "    metricName='accuracy'\n",
    ")\n",
    "accuracy = evaluator.evaluate(predictions)\n",
    "\n",
    "evaluator = MulticlassClassificationEvaluator(\n",
    "    predictionCol='prediction',\n",
    "    labelCol='label',\n",
    "    metricName='weightedPrecision'\n",
    ")\n",
    "precision = evaluator.evaluate(predictions)\n",
    "\n",
    "evaluator = MulticlassClassificationEvaluator(\n",
    "    predictionCol='prediction',\n",
    "    labelCol='label',\n",
    "    metricName='weightedRecall'\n",
    ")\n",
    "recall = evaluator.evaluate(predictions)\n",
    "\n",
    "evaluator = MulticlassClassificationEvaluator(\n",
    "    predictionCol='prediction',\n",
    "    labelCol='label',\n",
    "    metricName='f1'\n",
    ")\n",
    "f1 = evaluator.evaluate(predictions)\n",
    "\n",
    "print(\"=\" * 50)\n",
    "print(\"Accuracy:\", accuracy)\n",
    "print(\"Precision:\", precision)\n",
    "print(\"Recall:\", recall)\n",
    "print(\"F1:\", f1)\n",
    "print(\"=\" * 50)"
   ]
  },
  {
   "cell_type": "code",
   "execution_count": null,
   "metadata": {},
   "outputs": [],
   "source": [
    "\n"
   ]
  }
 ],
 "metadata": {
  "kernelspec": {
   "display_name": "spark_scikit",
   "language": "python",
   "name": "python3"
  },
  "language_info": {
   "codemirror_mode": {
    "name": "ipython",
    "version": 3
   },
   "file_extension": ".py",
   "mimetype": "text/x-python",
   "name": "python",
   "nbconvert_exporter": "python",
   "pygments_lexer": "ipython3",
   "version": "3.12.2"
  }
 },
 "nbformat": 4,
 "nbformat_minor": 2
}
